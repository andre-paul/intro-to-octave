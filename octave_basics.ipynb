{
 "cells": [
  {
   "cell_type": "markdown",
   "metadata": {},
   "source": [
    "# Basic calculations and commands in Octave"
   ]
  },
  {
   "cell_type": "markdown",
   "metadata": {},
   "source": [
    "## Calulations at the command line\n",
    "The command line can be used as a handy calculator. For example, typing `1+1`\n",
    "- after the prompt `>>` in the Octave command window and pressing the `<enter>` key,\n",
    "- or pressing `<shift> + <enter>` in the following cell of the interactive Jupyter notebook,\n",
    "\n",
    "yields the following result:"
   ]
  },
  {
   "cell_type": "code",
   "execution_count": 1,
   "metadata": {},
   "outputs": [
    {
     "name": "stdout",
     "output_type": "stream",
     "text": [
      "ans =  2\r\n"
     ]
    }
   ],
   "source": [
    "1+1"
   ]
  },
  {
   "cell_type": "markdown",
   "metadata": {},
   "source": [
    "The result only appears after hitting the enter key and is automatically stored in a variable called `ans`, which is short for *answer*. The most recent result can be retrieved by typing `ans` and once more pressing the enter key:"
   ]
  },
  {
   "cell_type": "code",
   "execution_count": 2,
   "metadata": {},
   "outputs": [
    {
     "name": "stdout",
     "output_type": "stream",
     "text": [
      "ans =  2\r\n"
     ]
    }
   ],
   "source": [
    "ans"
   ]
  },
  {
   "cell_type": "markdown",
   "metadata": {},
   "source": [
    "You can of course carry out more complex calculations such as:"
   ]
  },
  {
   "cell_type": "code",
   "execution_count": 3,
   "metadata": {},
   "outputs": [
    {
     "name": "stdout",
     "output_type": "stream",
     "text": [
      "ans =  50\r\n"
     ]
    }
   ],
   "source": [
    "0.5*10^2"
   ]
  },
  {
   "cell_type": "markdown",
   "metadata": {},
   "source": [
    "These can include built-in mathematical functions and even complex numbers:"
   ]
  },
  {
   "cell_type": "code",
   "execution_count": 4,
   "metadata": {},
   "outputs": [
    {
     "name": "stdout",
     "output_type": "stream",
     "text": [
      "ans =    6.1232e-17\r\n"
     ]
    }
   ],
   "source": [
    "cos(pi/2)"
   ]
  },
  {
   "cell_type": "code",
   "execution_count": 5,
   "metadata": {},
   "outputs": [
    {
     "name": "stdout",
     "output_type": "stream",
     "text": [
      "ans =  3.5470\r\n"
     ]
    }
   ],
   "source": [
    "exp(acos(0.3))"
   ]
  },
  {
   "cell_type": "code",
   "execution_count": 6,
   "metadata": {},
   "outputs": [
    {
     "name": "stdout",
     "output_type": "stream",
     "text": [
      "ans =  25\r\n"
     ]
    }
   ],
   "source": [
    "(3+4i)*(3-4i)"
   ]
  },
  {
   "cell_type": "markdown",
   "metadata": {},
   "source": [
    "Try your own calculations. Note that the variable `ans` is continuously updated with the most recent result."
   ]
  },
  {
   "cell_type": "markdown",
   "metadata": {},
   "source": [
    "## Variables in MATLAB/Octave"
   ]
  },
  {
   "cell_type": "markdown",
   "metadata": {},
   "source": [
    "In addition to built-in variables such as `ans`, new variables can be defined in an assignment statement as follows:"
   ]
  },
  {
   "cell_type": "code",
   "execution_count": 7,
   "metadata": {},
   "outputs": [
    {
     "name": "stdout",
     "output_type": "stream",
     "text": [
      "a =  1234\r\n"
     ]
    }
   ],
   "source": [
    "a = 1234"
   ]
  },
  {
   "cell_type": "markdown",
   "metadata": {},
   "source": [
    "The number or expression on the right-hand side (here: `1234`) is assigned to a variable with agiven name on the left hand side (here: ` a`): `variable = number` or `variable = expression`."
   ]
  },
  {
   "cell_type": "markdown",
   "metadata": {},
   "source": [
    "A variable name\n",
    "- must start with a letter,\n",
    "- may contain only letters, digits, and the underscore `_`,\n",
    "- is case sensitive (that is, one & OnE are different variables),\n",
    "- must differ in the first 63 characters."
   ]
  },
  {
   "cell_type": "markdown",
   "metadata": {},
   "source": [
    "When a semi-colon `;` is placed at the end of a command line, the output of the result is suppressed:"
   ]
  },
  {
   "cell_type": "code",
   "execution_count": 8,
   "metadata": {},
   "outputs": [],
   "source": [
    "a = 1234;"
   ]
  },
  {
   "cell_type": "markdown",
   "metadata": {},
   "source": [
    "## Algebraic and assignment operators"
   ]
  },
  {
   "cell_type": "markdown",
   "metadata": {},
   "source": [
    "| Operation      | Symbol | Example|\n",
    "| :-             | :-:    | :-:    |\n",
    "| Addition       | +      | a+b    |\n",
    "| Subtraction    | -      | a-b    |\n",
    "| Multiplication | *      | a*b    |\n",
    "| Division       | /      | a/b    |\n",
    "| Power          | ^      | a^b    |\n",
    "| Assignment     | =      | a=b    | "
   ]
  },
  {
   "cell_type": "markdown",
   "metadata": {},
   "source": [
    "The statement `a=b` assigns the value of the right-hand side to the variable on the left-hand side. Therefore an assignment such as `a = a + 1` makes perfect sense because it is not a mathematical equation."
   ]
  },
  {
   "cell_type": "markdown",
   "metadata": {},
   "source": [
    "## Pre-defined variables"
   ]
  },
  {
   "cell_type": "markdown",
   "metadata": {},
   "source": [
    "| Variable       | Value or meaning                                  |\n",
    "| :-             | :-                                                |\n",
    "| `ans`          | default variable name for the result              |\n",
    "| `pi`           | $\\pi = 3.14159265\\ldots$                          |\n",
    "| `i`or `j`      | imaginary unit ($i = j = \\sqrt{-1}$)              |\n",
    "| `Inf` or `inf` | inifinity ($\\infty$)                              |\n",
    "| `NaN` or `nan` | not-a-number                                      |\n",
    "| `eps`       | smallest difference between two numbers (2.2204e-16) |\n",
    "| `realmin`      | smallest usable positive real number (2.2251e-308)|\n",
    "| `realmax`      | largest usable positive real number (1.7977e+308) |"
   ]
  },
  {
   "cell_type": "markdown",
   "metadata": {},
   "source": [
    "Try yourself, type the name of a pre-defined variable at the command line and find out the value on your computer, e.g.:"
   ]
  },
  {
   "cell_type": "code",
   "execution_count": 9,
   "metadata": {},
   "outputs": [
    {
     "name": "stdout",
     "output_type": "stream",
     "text": [
      "ans =    2.2204e-16\r\n"
     ]
    }
   ],
   "source": [
    "eps"
   ]
  },
  {
   "cell_type": "code",
   "execution_count": 10,
   "metadata": {},
   "outputs": [
    {
     "name": "stdout",
     "output_type": "stream",
     "text": [
      "ans =   1.7977e+308\r\n"
     ]
    }
   ],
   "source": [
    "realmax"
   ]
  },
  {
   "cell_type": "markdown",
   "metadata": {},
   "source": [
    "## Elementary mathematical functions\n",
    "| MATLAB/Octave name | Mathematical function |\n",
    "| :- | :- |\n",
    "| `abs`, `sign` | absolute value and sign functions |\n",
    "| `sin`, `cos`, `asin`, `acos`, ... | trigonometric functions |\n",
    "| `exp`| exponential function (base *e*) |\n",
    "| `log`, `log10` | logarithm (base *e* and base 10, respectively) |\n",
    "| `sqrt`| square root function |\n",
    "| `round` | round to the nearest integer (i.e., whole number) |"
   ]
  },
  {
   "cell_type": "markdown",
   "metadata": {},
   "source": [
    "## Logical operators\n",
    "| MATLAB/Octave operator | Maening |\n",
    "| :-   | :- |\n",
    "| `==` | equal to |\n",
    "| `>`  | greater than |\n",
    "| `<`  | less than |\n",
    "| `>=` | greater or equal |\n",
    "| `<=` | less or equal |\n",
    "| `~`  | not |\n",
    "| `&`  | and |\n",
    "| `|`  | or |"
   ]
  },
  {
   "cell_type": "markdown",
   "metadata": {},
   "source": [
    "## Listing and clearing\n",
    "| Command | Action |\n",
    "| :- | :- |\n",
    "| `who`   | list currently defined variables |\n",
    "| `whos`  | provide detailed information on currently defined variables|\n",
    "| `clear` | clear all user-defined variables are from current workspace |\n",
    "| `clear` PATTERN | delete names matching the given PATTERNs from symbol table|\n",
    "| `clc`| clear the command window in the Octave GUI|\n",
    "| `history -c` | clear the current list of commands in the Octave GUI|"
   ]
  },
  {
   "cell_type": "markdown",
   "metadata": {},
   "source": [
    "## Getting help\n",
    "MATLAB (and to some degree Octave as well) has a very comprehensive online help system:\n",
    "\n",
    "| Command | Action |\n",
    "| :- | :- |\n",
    "| `help`   | displays instructions on how to access help from the command line |\n",
    "| `help` NAME  | display the help text for NAME (for example, for a command) |\n",
    "| `lookfor` STR | look for STR in just the first sentence of\n",
    "     the help string for each function found |\n",
    "| `demo` | in MATLAB, list tutorial demos |"
   ]
  },
  {
   "cell_type": "markdown",
   "metadata": {},
   "source": [
    " ## Next section\n",
    " Now proceed with [Matrices](octave_matrices.ipynb)."
   ]
  }
 ],
 "metadata": {
  "kernelspec": {
   "display_name": "Octave",
   "language": "octave",
   "name": "octave"
  },
  "language_info": {
   "file_extension": ".m",
   "help_links": [
    {
     "text": "GNU Octave",
     "url": "https://www.gnu.org/software/octave/support.html"
    },
    {
     "text": "Octave Kernel",
     "url": "https://github.com/Calysto/octave_kernel"
    },
    {
     "text": "MetaKernel Magics",
     "url": "https://metakernel.readthedocs.io/en/latest/source/README.html"
    }
   ],
   "mimetype": "text/x-octave",
   "name": "octave",
   "version": "5.2.0"
  }
 },
 "nbformat": 4,
 "nbformat_minor": 2
}
