{
 "cells": [
  {
   "cell_type": "markdown",
   "metadata": {},
   "source": [
    "# MATLAB/Octave matrices"
   ]
  },
  {
   "cell_type": "markdown",
   "metadata": {},
   "source": [
    "MATLAB/Octave treats all variables as matrices.\n",
    "- A vector (or array) is a special form of a matrix and contains only one row or one column.\n",
    "- A scalar is a matrix with only one row and one column."
   ]
  },
  {
   "cell_type": "markdown",
   "metadata": {},
   "source": [
    "## Creating a scalar or vector\n",
    "A scalar can be created in MATLAB/Octave as follows:"
   ]
  },
  {
   "cell_type": "code",
   "execution_count": 13,
   "metadata": {},
   "outputs": [
    {
     "name": "stdout",
     "output_type": "stream",
     "text": [
      "a =  23\r\n"
     ]
    }
   ],
   "source": [
    "a = 23"
   ]
  },
  {
   "cell_type": "markdown",
   "metadata": {},
   "source": [
    "A matrix with only one row is called a row vector. A row vector can be created in MATLAB/Octave as follows (note the commas):"
   ]
  },
  {
   "cell_type": "code",
   "execution_count": 14,
   "metadata": {},
   "outputs": [
    {
     "name": "stdout",
     "output_type": "stream",
     "text": [
      "rowvec =\r\n",
      "\r\n",
      "   12   14   63\r\n",
      "\r\n"
     ]
    }
   ],
   "source": [
    "rowvec = [12, 14, 63]"
   ]
  },
  {
   "cell_type": "markdown",
   "metadata": {},
   "source": [
    "Here the commas are optional, and for simplicity, they may be skipped:"
   ]
  },
  {
   "cell_type": "code",
   "execution_count": 15,
   "metadata": {},
   "outputs": [
    {
     "name": "stdout",
     "output_type": "stream",
     "text": [
      "rowvec =\r\n",
      "\r\n",
      "   12   14   63\r\n",
      "\r\n"
     ]
    }
   ],
   "source": [
    "rowvec = [12 14 63]"
   ]
  },
  {
   "cell_type": "markdown",
   "metadata": {},
   "source": [
    "A matrix with only one column is called a column vector. A column vector can be created in MATLAB/Octave as\n",
    "follows (note the semicolons):"
   ]
  },
  {
   "cell_type": "code",
   "execution_count": 16,
   "metadata": {},
   "outputs": [
    {
     "name": "stdout",
     "output_type": "stream",
     "text": [
      "colvec =\r\n",
      "\r\n",
      "   13\r\n",
      "   45\r\n",
      "   -2\r\n",
      "\r\n"
     ]
    }
   ],
   "source": [
    "colvec = [13; 45; -2]"
   ]
  },
  {
   "cell_type": "markdown",
   "metadata": {},
   "source": [
    "## Addressing vector elements"
   ]
  },
  {
   "cell_type": "markdown",
   "metadata": {},
   "source": [
    "A vector element is addressed by an integer index enclosed in parentheses. For example:"
   ]
  },
  {
   "cell_type": "code",
   "execution_count": 17,
   "metadata": {},
   "outputs": [],
   "source": [
    "x=[10 20 30 40 50 60];"
   ]
  },
  {
   "cell_type": "code",
   "execution_count": 18,
   "metadata": {},
   "outputs": [
    {
     "name": "stdout",
     "output_type": "stream",
     "text": [
      "ans =  30\r\n"
     ]
    }
   ],
   "source": [
    "x(3)"
   ]
  },
  {
   "cell_type": "markdown",
   "metadata": {},
   "source": [
    "Note that MATLAB/Octave is one-based, that is, indexing starts at 1."
   ]
  },
  {
   "cell_type": "markdown",
   "metadata": {},
   "source": [
    "## Useful commands for vectors\n",
    "| Command | Meaning |\n",
    "| :-      | :-      |\n",
    "| `x = start:end` | create row vector `x` starting with `start`, increasing by one, ending at `end` |\n",
    "| `x = start:increment:end` | create row vector `x` starting with `start`, increasing by `increment`, ending at or before `end` |\n",
    "| `x= linspace(start,end,number)` | create row vector `x` starting with `start`, ending at `end`, having `number` elements |\n",
    "|`length(x)`|returns the length of vector `x`|\n",
    "|`y = x'`   | transpose of vector `x`|"
   ]
  },
  {
   "cell_type": "markdown",
   "metadata": {},
   "source": [
    "Try yourself. For example:"
   ]
  },
  {
   "cell_type": "code",
   "execution_count": 19,
   "metadata": {},
   "outputs": [
    {
     "name": "stdout",
     "output_type": "stream",
     "text": [
      "x =\r\n",
      "\r\n",
      "   10   15   20   25   30   35   40\r\n",
      "\r\n"
     ]
    }
   ],
   "source": [
    "x = 10:5:40"
   ]
  },
  {
   "cell_type": "code",
   "execution_count": 20,
   "metadata": {},
   "outputs": [
    {
     "name": "stdout",
     "output_type": "stream",
     "text": [
      "ans =\r\n",
      "\r\n",
      "   10\r\n",
      "   15\r\n",
      "   20\r\n",
      "   25\r\n",
      "   30\r\n",
      "   35\r\n",
      "   40\r\n",
      "\r\n"
     ]
    }
   ],
   "source": [
    "x'"
   ]
  },
  {
   "cell_type": "markdown",
   "metadata": {},
   "source": [
    "## Creating a matrix"
   ]
  },
  {
   "cell_type": "markdown",
   "metadata": {},
   "source": [
    "A matrix can be created in MATLAB/Octave as follows (note the spaces and semicolons):"
   ]
  },
  {
   "cell_type": "code",
   "execution_count": 21,
   "metadata": {},
   "outputs": [
    {
     "name": "stdout",
     "output_type": "stream",
     "text": [
      "matrix =\r\n",
      "\r\n",
      "   1   2   3\r\n",
      "   4   5   6\r\n",
      "   7   8   9\r\n",
      "\r\n"
     ]
    }
   ],
   "source": [
    "matrix = [1 2 3; 4 5 6; 7 8 9]"
   ]
  },
  {
   "cell_type": "markdown",
   "metadata": {},
   "source": [
    "A semicolon `;`acts as a row separator, while a space or a comma `,` acts a a column separator."
   ]
  },
  {
   "cell_type": "markdown",
   "metadata": {},
   "source": [
    "## Extracting a sub-matrix"
   ]
  },
  {
   "cell_type": "markdown",
   "metadata": {},
   "source": [
    "<img src=\"octave_screenshot_matrix.png\"/>"
   ]
  },
  {
   "cell_type": "markdown",
   "metadata": {},
   "source": [
    "A portion of a matrix can be extracted and stored in a smaller matrix by specifying the names of both matrices and the rows and columns to extract. The syntax is:"
   ]
  },
  {
   "cell_type": "markdown",
   "metadata": {},
   "source": [
    "`sub_matrix = matrix(r1:r2,c1:c2);` where\n",
    "- `r1, r2`: beginning and ending rows\n",
    "- `c1, c2`: beginning and ending columns"
   ]
  },
  {
   "cell_type": "markdown",
   "metadata": {},
   "source": [
    "Extract a scalar:"
   ]
  },
  {
   "cell_type": "code",
   "execution_count": 2,
   "metadata": {},
   "outputs": [
    {
     "name": "stdout",
     "output_type": "stream",
     "text": [
      "A =\r\n",
      "\r\n",
      "    4.00000   10.00000    1.00000    6.00000    2.00000\r\n",
      "    8.00000    1.20000    9.00000    4.00000   25.00000\r\n",
      "    7.20000    5.00000    7.00000    1.00000   11.00000\r\n",
      "    0.00000    0.50000    4.00000    5.00000   56.00000\r\n",
      "   23.00000   83.00000   13.00000    0.00000   10.00000\r\n",
      "\r\n"
     ]
    }
   ],
   "source": [
    "A = [4 10 1 6 2; 8 1.2 9 4 25; 7.2 5 7 1 11; 0 0.5 4 5 56; 23 83 13 0 10] "
   ]
  },
  {
   "cell_type": "code",
   "execution_count": 3,
   "metadata": {},
   "outputs": [
    {
     "name": "stdout",
     "output_type": "stream",
     "text": [
      "ans =  4\r\n"
     ]
    }
   ],
   "source": [
    "A(2, 4)"
   ]
  },
  {
   "cell_type": "markdown",
   "metadata": {},
   "source": [
    "Extract a vector or sub-matrix:\n",
    "<img src=\"octave_screenshot_sub-matrices.png\"/>"
   ]
  },
  {
   "cell_type": "code",
   "execution_count": 4,
   "metadata": {},
   "outputs": [
    {
     "name": "stdout",
     "output_type": "stream",
     "text": [
      "ans =  7.2000\r\n"
     ]
    }
   ],
   "source": [
    "A(3, 1)"
   ]
  },
  {
   "cell_type": "code",
   "execution_count": 5,
   "metadata": {},
   "outputs": [
    {
     "name": "stdout",
     "output_type": "stream",
     "text": [
      "ans =\r\n",
      "\r\n",
      "    0.50000    4.00000\r\n",
      "   83.00000   13.00000\r\n",
      "\r\n"
     ]
    }
   ],
   "source": [
    "A(4:5, 2:3)"
   ]
  },
  {
   "cell_type": "code",
   "execution_count": 6,
   "metadata": {},
   "outputs": [
    {
     "name": "stdout",
     "output_type": "stream",
     "text": [
      "ans =\r\n",
      "\r\n",
      "    2\r\n",
      "   25\r\n",
      "   11\r\n",
      "   56\r\n",
      "   10\r\n",
      "\r\n"
     ]
    }
   ],
   "source": [
    "A(1:5, 5)"
   ]
  },
  {
   "cell_type": "markdown",
   "metadata": {},
   "source": [
    "Alternatively, for a full column or row, just use a colon `:`:"
   ]
  },
  {
   "cell_type": "code",
   "execution_count": 7,
   "metadata": {},
   "outputs": [
    {
     "name": "stdout",
     "output_type": "stream",
     "text": [
      "ans =\r\n",
      "\r\n",
      "    2\r\n",
      "   25\r\n",
      "   11\r\n",
      "   56\r\n",
      "   10\r\n",
      "\r\n"
     ]
    }
   ],
   "source": [
    "A(:, 5)"
   ]
  },
  {
   "cell_type": "markdown",
   "metadata": {},
   "source": [
    "## Scalar-matrix operations\n",
    "For addition, subtraction, multiplication, and division of a matrix by a scalar, the operation is applied to all elements of the matrix."
   ]
  },
  {
   "cell_type": "markdown",
   "metadata": {},
   "source": [
    "For example:"
   ]
  },
  {
   "cell_type": "code",
   "execution_count": 8,
   "metadata": {},
   "outputs": [
    {
     "name": "stdout",
     "output_type": "stream",
     "text": [
      "A =\r\n",
      "\r\n",
      "   1   2\r\n",
      "   3   4\r\n",
      "\r\n"
     ]
    }
   ],
   "source": [
    "A = [ 1 2; 3 4]"
   ]
  },
  {
   "cell_type": "code",
   "execution_count": 9,
   "metadata": {},
   "outputs": [
    {
     "name": "stdout",
     "output_type": "stream",
     "text": [
      "B =\r\n",
      "\r\n",
      "   1   3\r\n",
      "   5   7\r\n",
      "\r\n"
     ]
    }
   ],
   "source": [
    "B = 2*A - 1"
   ]
  },
  {
   "cell_type": "markdown",
   "metadata": {},
   "source": [
    "Each element in the matrix A is multiplied by 2. Then 1 is subtracted from it."
   ]
  },
  {
   "cell_type": "markdown",
   "metadata": {},
   "source": [
    "## Useful commands for matrices\n",
    "| Command | Meaning |\n",
    "| :-      | :-      |\n",
    "| `zeros(n)`    | creates an `n x n` matrix of zeros |\n",
    "| `zeros(m, n)` | creates an `m x n` matrix of zeros |\n",
    "| `ones(n)`     | creates an `n x n` matrix of ones  |\n",
    "| `ones(m, n)`  | creates an `m x n` matrix of ones  |\n",
    "| `size(A)` | for an `m x n` matrix `A`, returns the row vector `[m, n]` containing the number of rows and columns in matrix|\n",
    "| `length(A)`| returns the larger of the number of rows or columns in `A`|\n",
    "| ` B = A'` | transpose of matrix `A`|"
   ]
  },
  {
   "cell_type": "markdown",
   "metadata": {},
   "source": [
    "## Try yourself"
   ]
  },
  {
   "cell_type": "markdown",
   "metadata": {},
   "source": [
    "Scalar expansion:"
   ]
  },
  {
   "cell_type": "code",
   "execution_count": 10,
   "metadata": {
    "scrolled": true
   },
   "outputs": [
    {
     "name": "stdout",
     "output_type": "stream",
     "text": [
      "w =\r\n",
      "\r\n",
      "   6   7\r\n",
      "   8   9\r\n",
      "\r\n"
     ]
    }
   ],
   "source": [
    "w = [1 2; 3 4] + 5"
   ]
  },
  {
   "cell_type": "markdown",
   "metadata": {},
   "source": [
    "Creating sequences by using the colon `:`operator:"
   ]
  },
  {
   "cell_type": "code",
   "execution_count": 11,
   "metadata": {},
   "outputs": [
    {
     "name": "stdout",
     "output_type": "stream",
     "text": [
      "x =\r\n",
      "\r\n",
      "   1   2   3   4   5\r\n",
      "\r\n"
     ]
    }
   ],
   "source": [
    "x = 1:5"
   ]
  },
  {
   "cell_type": "code",
   "execution_count": 12,
   "metadata": {},
   "outputs": [
    {
     "name": "stdout",
     "output_type": "stream",
     "text": [
      "y =\r\n",
      "\r\n",
      "    2.00000    1.50000    1.00000    0.50000    0.00000\r\n",
      "\r\n"
     ]
    }
   ],
   "source": [
    "y = 2:-0.5:0"
   ]
  },
  {
   "cell_type": "markdown",
   "metadata": {},
   "source": [
    "Utility functions for creating matrices:"
   ]
  },
  {
   "cell_type": "code",
   "execution_count": 13,
   "metadata": {},
   "outputs": [
    {
     "name": "stdout",
     "output_type": "stream",
     "text": [
      "z =\r\n",
      "\r\n",
      "   1   1   1   1\r\n",
      "   1   1   1   1\r\n",
      "\r\n"
     ]
    }
   ],
   "source": [
    "z = ones(2,4)"
   ]
  },
  {
   "cell_type": "markdown",
   "metadata": {},
   "source": [
    "## Element-by-element operations\n",
    "For element-wise multiplication, division and exponentiation of matrices the corresponding operator must be preceded by a dot."
   ]
  },
  {
   "cell_type": "markdown",
   "metadata": {},
   "source": [
    "| Operation      | Algebraic form | MATLAB/Octave|\n",
    "| :-             | :-:            | :-:          |\n",
    "| Addition       | $a + b$        | `a + b`      |\n",
    "| Subtraction    | $a - b$        | `a - b`      |\n",
    "| Multiplication | $a\\;b$         | `a .* b`     |\n",
    "| Division       | $a : b$        | `a ./ b`     |\n",
    "| Exponentiation | $a^b$          | `a.^b`       |\n",
    "\n",
    "Note that matrix addition and subtraction is element-wise by definition."
   ]
  },
  {
   "cell_type": "markdown",
   "metadata": {},
   "source": [
    "For example:"
   ]
  },
  {
   "cell_type": "code",
   "execution_count": 14,
   "metadata": {},
   "outputs": [],
   "source": [
    "x = [ 1 2 3 ];"
   ]
  },
  {
   "cell_type": "code",
   "execution_count": 15,
   "metadata": {},
   "outputs": [],
   "source": [
    "y = [ 4 5 6 ];"
   ]
  },
  {
   "cell_type": "code",
   "execution_count": 16,
   "metadata": {},
   "outputs": [
    {
     "name": "stdout",
     "output_type": "stream",
     "text": [
      "z =\r\n",
      "\r\n",
      "    4   10   18\r\n",
      "\r\n"
     ]
    }
   ],
   "source": [
    "z = x .* y"
   ]
  },
  {
   "cell_type": "markdown",
   "metadata": {},
   "source": [
    "Each element in x is multiplied by the corresponding element in y."
   ]
  },
  {
   "cell_type": "markdown",
   "metadata": {},
   "source": [
    "## Matrix, vector and array\n",
    "<img src=\"figure_vector_matrix_array.png\"/>\n",
    "\n",
    "In programming jargon, an n-dimensional field of values is called an *array*:\n",
    "\n",
    "- vector: one-dimensional array\n",
    "- matrix: two-dimensionl array\n",
    "- arrays can b multi-dimensional"
   ]
  },
  {
   "cell_type": "markdown",
   "metadata": {},
   "source": [
    "## Exercise\n",
    "Now you are ready to tackle the following exercise: \n",
    "[Getting started with MATLAB/Octave](https://seafile.zfn.uni-bremen.de/f/55ce9869f68a4efb92c3/)"
   ]
  },
  {
   "cell_type": "markdown",
   "metadata": {},
   "source": [
    "## Structure arrays\n",
    "Structure arrays allow to store data of different types and sizes in fields.\n",
    "- Each field represents a property or attribute of the data.\n",
    "- All fields together form a hierarchy that reflects the layers of the data in a logical manner."
   ]
  }
 ],
 "metadata": {
  "kernelspec": {
   "display_name": "Octave",
   "language": "octave",
   "name": "octave"
  },
  "language_info": {
   "file_extension": ".m",
   "help_links": [
    {
     "text": "GNU Octave",
     "url": "https://www.gnu.org/software/octave/support.html"
    },
    {
     "text": "Octave Kernel",
     "url": "https://github.com/Calysto/octave_kernel"
    },
    {
     "text": "MetaKernel Magics",
     "url": "https://metakernel.readthedocs.io/en/latest/source/README.html"
    }
   ],
   "mimetype": "text/x-octave",
   "name": "octave",
   "version": "5.2.0"
  }
 },
 "nbformat": 4,
 "nbformat_minor": 2
}
