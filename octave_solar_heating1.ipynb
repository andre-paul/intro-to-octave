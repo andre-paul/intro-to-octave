{
 "cells": [
  {
   "cell_type": "markdown",
   "metadata": {},
   "source": [
    "# Solar heating model 1"
   ]
  },
  {
   "cell_type": "markdown",
   "metadata": {},
   "source": [
    "### 1. Physical constants, run parameters and model parameters\n",
    "We start by setting physical constants, run parameters that control the model simulation and model parameters that determine the characteristics of the model:"
   ]
  },
  {
   "cell_type": "code",
   "execution_count": 5,
   "metadata": {},
   "outputs": [],
   "source": [
    "% Set physical constants\n",
    "pureWaterFreezingPoint  = 273.15;  % pure water freezing point/K\n",
    "\n",
    "% Set run parameters\n",
    "deltaT     =    86400.0;           % time step/s\n",
    "startTime  =    0.0;               % time to start integration/s\n",
    "nTimeSteps =  365;                 % total number of time steps\n",
    "\n",
    "% Set model parameters\n",
    "solarConstant         = 1360.8;    % solar constant/(W m-2)\n",
    "effectiveHeatCapacity = 2.9526E08; % effective heat capacity of the \n",
    "                                   % atmosphere-ocean system/(J m-2 K-1)"
   ]
  },
  {
   "cell_type": "markdown",
   "metadata": {},
   "source": [
    "### 2. Initial conditions\n",
    "Next we specify the initial temperature and initial time:"
   ]
  },
  {
   "cell_type": "code",
   "execution_count": 8,
   "metadata": {},
   "outputs": [],
   "source": [
    "% Set initial conditions\n",
    "temperature = 15.0 + pureWaterFreezingPoint;\n",
    "myTime      = startTime;"
   ]
  },
  {
   "cell_type": "markdown",
   "metadata": {},
   "source": [
    "### 3. Time loop\n",
    "Finally, we add the time loop in terms of a `for` loop. It keeps track of the simulated time and approximates the time-dependent evolution of temperature using the Euler method:"
   ]
  },
  {
   "cell_type": "code",
   "execution_count": 9,
   "metadata": {},
   "outputs": [],
   "source": [
    "% Time loop (myIter = iteration counter)\n",
    "for myIter=1:nTimeSteps\n",
    "    \n",
    "    % Record simulated time\n",
    "    myTime = myTime + deltaT;\n",
    "    \n",
    "    % Step global annual-mean surface temperature forward in time \n",
    "    % (by \"Euler forward\" or \"forward-in-time\" method)\n",
    "    temperature  = temperature + deltaT/effectiveHeatCapacity* ...\n",
    "                                 (solarConstant/4.0);\n",
    "\n",
    "end % end of time loop"
   ]
  },
  {
   "cell_type": "markdown",
   "metadata": {},
   "source": [
    "Note that we need only one temperature variable, which is assigned a new value every time the body of the `for` loop is executed. After the last time step, this variable contains the final temperature value:"
   ]
  },
  {
   "cell_type": "code",
   "execution_count": 10,
   "metadata": {},
   "outputs": [
    {
     "name": "stdout",
     "output_type": "stream",
     "text": [
      "temperature =  324.49\r\n"
     ]
    }
   ],
   "source": [
    "temperature"
   ]
  },
  {
   "cell_type": "markdown",
   "metadata": {},
   "source": [
    "Hence the temperature after one year is 324.49 K. To find out how long it takes to reach the boiling point or how the temperature change would proceed if time went on, you could simply reduce or increase the number of time steps `nTimeSteps` and rerun your M-file script `solar_heating1.m`, or alternatively, rerun the cells in this notebook. "
   ]
  },
  {
   "cell_type": "markdown",
   "metadata": {},
   "source": [
    "## Summary\n",
    "M-files can be used to carry out complex tasks in a concise manner, much simpler than in a spreadsheet."
   ]
  }
 ],
 "metadata": {
  "kernelspec": {
   "display_name": "Octave",
   "language": "octave",
   "name": "octave"
  },
  "language_info": {
   "file_extension": ".m",
   "help_links": [
    {
     "text": "GNU Octave",
     "url": "https://www.gnu.org/software/octave/support.html"
    },
    {
     "text": "Octave Kernel",
     "url": "https://github.com/Calysto/octave_kernel"
    },
    {
     "text": "MetaKernel Magics",
     "url": "https://metakernel.readthedocs.io/en/latest/source/README.html"
    }
   ],
   "mimetype": "text/x-octave",
   "name": "octave",
   "version": "5.2.0"
  }
 },
 "nbformat": 4,
 "nbformat_minor": 2
}
