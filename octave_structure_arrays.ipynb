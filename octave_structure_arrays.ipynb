{
 "cells": [
  {
   "cell_type": "markdown",
   "metadata": {},
   "source": [
    "# Structure arrays\n",
    "Structure arrays may be used to organize constants, run parameters, model parameters and variables in a logical manner. The advantage is that they avoid a long list of arguments when calling a function. Within a function, we can address precisely the fields that are needed using the dot `.`notation."
   ]
  },
  {
   "cell_type": "markdown",
   "metadata": {},
   "source": [
    "We return to the straight line example to demonstrate the use of a structure array in a simple context. In this regard, we introduce a structure array `Parameters` with two fields `a` and `b` that correspond to the intercept and slope of the straight line, respectively. Note that these twi fields can be accessed through `Parameters.a` and `Parameters.b` as follows:"
   ]
  },
  {
   "cell_type": "code",
   "execution_count": 1,
   "metadata": {},
   "outputs": [
    {
     "name": "stdout",
     "output_type": "stream",
     "text": [
      "Created file '/Users/andre/Development/intro-to-octave/straight_line2.m'.\n"
     ]
    }
   ],
   "source": [
    "%%file straight_line2.m\n",
    "\n",
    "function y = straight_line2(Parameters, x)\n",
    "% STRAIGHT_LINE Calculate straight line\n",
    "\n",
    "% Input parameters:\n",
    "% a = intercept (through structure array Parameters)\n",
    "% b = slope (through structure array Parameters)\n",
    "% x = independent variable\n",
    "%\n",
    "% Output parameters:\n",
    "% y = dependent variable\n",
    "\n",
    "a = Parameters.a;\n",
    "b = Parameters.b;\n",
    "\n",
    "y = a + b*x;"
   ]
  },
  {
   "cell_type": "code",
   "execution_count": 2,
   "metadata": {},
   "outputs": [
    {
     "data": {
      "image/png": "[encoded data removed]",
      "text/plain": [
       "<IPython.core.display.Image object>"
      ]
     },
     "metadata": {},
     "output_type": "display_data"
    }
   ],
   "source": [
    "% Plot a straight line\n",
    "\n",
    "% Set straight-line parameters\n",
    "Parameters.a = 2; % intercept\n",
    "Parameters.b = 3; % slope\n",
    "\n",
    "% Create the data to plot\n",
    "x = 0:0.1:10;\n",
    "y = straight_line2(Parameters, x); % vector of y-values\n",
    "\n",
    "% Make the plot\n",
    "plot(x, y)\n",
    "\n",
    "% Make the labels\n",
    "set(gca, 'FontSize', 18)\n",
    "xlabel('x', 'FontSize', 18)\n",
    "ylabel('y', 'FontSize', 18)\n",
    "title('Plot of straight-line function', 'FontSize', 20)"
   ]
  },
  {
   "cell_type": "markdown",
   "metadata": {},
   "source": [
    "## Version 5 of the solar heating model\n",
    "In a similar way, introduce three structure arrays `Constants`, `RunParameters` and `ModelParameters` to the solar heating model:\n",
    "\n",
    "1. Save your existing M-file script `solar_heating4.m` in a new file `solar_heating5.m`,\n",
    "2. in the M-file script `solar_heating5.m`, after setting the model parameters, store the constants, run parameters and model parameters in the respective structure arrays, \n",
    "3. in the M-file script `run_model.m`, change the input parameters accordingly and then retrieve the constants, run parameters and model parameters from the respective structure arrays.\n",
    "\n",
    "The advantage of structuring the code in this way is that the constants, run parameters and model parameters can be organized in a logical manner and that the list of arguments when calling the function `run_model` becomes much shorter.\n",
    "\n",
    "Please first try yourself. Then you can proceed to the next section [Solar heating model 5](octave_solar_heating5.ipynb) and compare your steps to the example code. Two code snippets are given below:"
   ]
  },
  {
   "cell_type": "markdown",
   "metadata": {},
   "source": [
    "```OCTAVE\n",
    "% SolarHeating5 Zero-dimensional solar heating model.\n",
    "[...]\n",
    "% Set run parameters\n",
    "[...]\n",
    "% Set model parameters\n",
    "[...]\n",
    "% Store constants and parameters in structure arrays\n",
    "Constants.pureWaterFreezingPoint = pureWaterFreezingPoint;\n",
    "RunParameters.deltaT             = deltaT;\n",
    "RunParameters.startTime          = startTime;\n",
    "RunParameters.nTimeSteps         = nTimeSteps;\n",
    "RunParameters.fileName           = fileName;\n",
    "ModelParameters.solarConstant    = solarConstant;\n",
    "ModelParameters.effectiveHeatCapacity = effectiveHeatCapacity;\n",
    "ModelParameters.initialTemperature    = initialTemperature;\n",
    "% Run model\n",
    "run_model(Constants, RunParameters, ModelParameters);\n",
    "```"
   ]
  },
  {
   "cell_type": "markdown",
   "metadata": {},
   "source": [
    "```OCTAVE\n",
    "function run_model(Constants, RunParameters, ModelParameters)\n",
    "% RUN_MODEL Direct model integration.\n",
    "% Retrieve constants and parameters from structure arrays\n",
    "pureWaterFreezingPoint = Constants.pureWaterFreezingPoint;\n",
    "deltaT                 = RunParameters.deltaT;\n",
    "startTime              = RunParameters.startTime;\n",
    "nTimeSteps             = RunParameters.nTimeSteps;\n",
    "fileName               = RunParameters.fileName;\n",
    "solarConstant          = ModelParameters.solarConstant;\n",
    "effectiveHeatCapacity  = ModelParameters.effectiveHeatCapacity; \n",
    "initialTemperature     = ModelParameters.initialTemperature;\n",
    "% Set initial conditions\n",
    "[...]\n",
    "% Time loop (myIter = iteration counter) [...]\n",
    "```"
   ]
  },
  {
   "cell_type": "markdown",
   "metadata": {},
   "source": [
    "In these code snippets, `...` indicates a continuation line as usual, while `[...]` indicates code lines that are left out for brevity."
   ]
  }
 ],
 "metadata": {
  "kernelspec": {
   "display_name": "Octave",
   "language": "octave",
   "name": "octave"
  },
  "language_info": {
   "file_extension": ".m",
   "help_links": [
    {
     "text": "GNU Octave",
     "url": "https://www.gnu.org/software/octave/support.html"
    },
    {
     "text": "Octave Kernel",
     "url": "https://github.com/Calysto/octave_kernel"
    },
    {
     "text": "MetaKernel Magics",
     "url": "https://metakernel.readthedocs.io/en/latest/source/README.html"
    }
   ],
   "mimetype": "text/x-octave",
   "name": "octave",
   "version": "5.2.0"
  }
 },
 "nbformat": 4,
 "nbformat_minor": 2
}
