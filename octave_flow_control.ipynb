{
 "cells": [
  {
   "cell_type": "markdown",
   "metadata": {},
   "source": [
    "# Flow control statements"
   ]
  },
  {
   "cell_type": "markdown",
   "metadata": {},
   "source": [
    "Suppose that we want to limit temperature on our \"water planet\" at the boiling point, because further heating would lead to evaporation. This requires to introduce a new type of statement to the code of our solar heating model, which is called a \"flow control statement\": If the temperature is greater than the boiling point, then set the temperature to the boiling point, or in MATLAB/Octave syntax:"
   ]
  },
  {
   "cell_type": "markdown",
   "metadata": {},
   "source": [
    "```OCTAVE\n",
    "pureWaterBoilingPoint   = 373.15;  % pure water boiling point/K\n",
    "```"
   ]
  },
  {
   "cell_type": "markdown",
   "metadata": {},
   "source": [
    "The above statement is needed to set the pure water boiling point in units of Kelvin (K)."
   ]
  },
  {
   "cell_type": "markdown",
   "metadata": {},
   "source": [
    "```OCTAVE\n",
    "if temperature > pureWaterBoilingPoint\n",
    "    temperature = pureWaterBoilingPoint;\n",
    "end\n",
    "```"
   ]
  },
  {
   "cell_type": "markdown",
   "metadata": {},
   "source": [
    "The condition `temperature > pureWaterBoilingPoint` is a logical expression, which makes use of the logical operator `>` (\"greater than\"). If this condition is true, then the body of statements enclosed by `if` and `end` is carried out, in this case it is the single statement `temperature = pureWaterBoilingPoint;` that sets the temperature to the boiling point."
   ]
  },
  {
   "cell_type": "markdown",
   "metadata": {},
   "source": [
    "To make this work in GNU Octave, \n",
    "\n",
    "1. save your existing M-file script `solar_heating2.m` in a new file `solar_heating3.m`,\n",
    "2. add the pure water boiling point to the section in which the physical constants are set and\n",
    "3. insert the flow control statement into the time loop, right after the calculation of the global annual-mean surface temperature at the new time level.\n",
    "\n",
    "Again, please first try yourself. Then you can proceed to the next section [Solar heating model 3](octave_solar_heating3.ipynb) and compare your steps to the example code."
   ]
  }
 ],
 "metadata": {
  "kernelspec": {
   "display_name": "Python 3",
   "language": "python",
   "name": "python3"
  },
  "language_info": {
   "codemirror_mode": {
    "name": "ipython",
    "version": 3
   },
   "file_extension": ".py",
   "mimetype": "text/x-python",
   "name": "python",
   "nbconvert_exporter": "python",
   "pygments_lexer": "ipython3",
   "version": "3.7.3"
  }
 },
 "nbformat": 4,
 "nbformat_minor": 2
}
