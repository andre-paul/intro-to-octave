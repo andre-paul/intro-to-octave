{
 "cells": [
  {
   "cell_type": "markdown",
   "metadata": {},
   "source": [
    "## Installing and runing Octave"
   ]
  },
  {
   "cell_type": "markdown",
   "metadata": {},
   "source": [
    "__[GNU Octave](https://www.gnu.org/software/octave/index)__ is a scientific programming language with built-in plotting and visualization tools. To a large degree, it is compatible with MATLAB. However, in contrast to MATLAB it is free software, which you can install and run on your Windows, Mac or Linux computer. General information on downloading GNU Octave is given here: https://www.gnu.org/software/octave/download.html"
   ]
  },
  {
   "cell_type": "markdown",
   "metadata": {},
   "source": [
    "### On Microsoft Windows:\n",
    "The easiest way to install Octave on Windows is to download an executable (.exe) installer, which can be found here: https://ftpmirror.gnu.org/octave/windows/octave-5.2.0_1-w64-installer.exe.\n",
    "***\n",
    "Run the downloaded file and follow the on-screen installation prompts. It is recommended that the installation path does not include spaces or non-ASCII characters. Shortcuts to the program will be created automatically."
   ]
  },
  {
   "cell_type": "markdown",
   "metadata": {},
   "source": [
    "### On macOS:\n",
    "A beta release of the new 5.x series of GNU Octave that works fine for me is available from here: https://github.com/octave-app/octave-app/releases/download/v5.2.0-beta2/Octave-5.2.0-beta2.dmg\n",
    "***\n",
    "Download the Apple Disk Image (.dmg) file, double-click on it and drag the app into to the `Applications` folder.  "
   ]
  },
  {
   "cell_type": "markdown",
   "metadata": {},
   "source": [
    "### On Linux:\n",
    "For Linux systems, see the hints on the main download page of GNU Octave: https://www.gnu.org/software/octave/download.html"
   ]
  },
  {
   "cell_type": "markdown",
   "metadata": {},
   "source": [
    "## Octave Graphical User Interface"
   ]
  },
  {
   "cell_type": "markdown",
   "metadata": {},
   "source": [
    "<img src=\"octave_screenshot_gui_overview.png\"/>"
   ]
  },
  {
   "cell_type": "markdown",
   "metadata": {},
   "source": [
    "## Listing and clearing\n",
    "| Command | Action |\n",
    "| :- | :- |\n",
    "| `who`   | list currently defined variables |\n",
    "| `whos`  | provide detailed information on currently defined variables|\n",
    "| `clear` | clear all user-defined variables are from current workspace |\n",
    "| `clear` PATTERN | delete names matching the given PATTERNs from symbol table|\n",
    "| `clc`| clear the command window in the Octave GUI|\n",
    "| `history -c` | clear the current list of commands in the Octave GUI|"
   ]
  },
  {
   "cell_type": "markdown",
   "metadata": {},
   "source": [
    "## Getting help\n",
    "MATLAB (and to some degree Octave as well) has a very comprehensive online help system:\n",
    "\n",
    "| Command | Action |\n",
    "| :- | :- |\n",
    "| `help`   | displays instructions on how to access help from the command line |\n",
    "| `help` NAME  | display the help text for NAME (for example, for a command) |\n",
    "| `lookfor` STR | look for STR in just the first sentence of\n",
    "     the help string for each function found |\n",
    "| `demo` | in MATLAB, list tutorial demos |"
   ]
  }
 ],
 "metadata": {
  "kernelspec": {
   "display_name": "Octave",
   "language": "octave",
   "name": "octave"
  },
  "language_info": {
   "file_extension": ".m",
   "help_links": [
    {
     "text": "GNU Octave",
     "url": "https://www.gnu.org/software/octave/support.html"
    },
    {
     "text": "Octave Kernel",
     "url": "https://github.com/Calysto/octave_kernel"
    },
    {
     "text": "MetaKernel Magics",
     "url": "https://metakernel.readthedocs.io/en/latest/source/README.html"
    }
   ],
   "mimetype": "text/x-octave",
   "name": "octave",
   "version": "5.2.0"
  }
 },
 "nbformat": 4,
 "nbformat_minor": 2
}
