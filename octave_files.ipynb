{
 "cells": [
  {
   "cell_type": "markdown",
   "metadata": {},
   "source": [
    "# Writing to and Reading from files"
   ]
  },
  {
   "cell_type": "markdown",
   "metadata": {},
   "source": [
    "After executing the M-file script `solar_heating1.m`, only the very last values of the variables `myTime` and `temperature` are retained in the workspace. It is desirable to save all their values to a text file, such that they can be later read and analyzed (e.g., plotted using a separate M-file script `plot_results.m`)."
   ]
  },
  {
   "cell_type": "markdown",
   "metadata": {},
   "source": [
    "## Saving variables to a text file\n",
    "\n",
    "Using the following commands, a text file can be opened, data can be written to it, and finally the filed can be closed again:\n",
    "\n",
    "| Command | Action|\n",
    "| :- | :- |\n",
    "| `fopen` | open a file for output |\n",
    "| `fprintf` | write formatted data to an *open* file |\n",
    "| `fclose` | close an open file |"
   ]
  },
  {
   "cell_type": "markdown",
   "metadata": {},
   "source": [
    "### Opening a text file\n",
    "The syntax for opening a text file is:\n",
    "\n",
    "`fileID = fopen(filename, mode)`\n",
    "\n",
    "Here `fileID` is a variable that in the remainder of the M-file serves to identify the file to be opened.\n",
    "\n",
    "| Value | meaning|\n",
    "| :- | :- |\n",
    "| `r` | open a file for *reading* (this is the default) |\n",
    "| `w` | open an existing file or create a new file for *writing* |\n",
    "|     | (discard existing contents))\n",
    "| `a` | open an existing file or create a new file, |\n",
    "|     | *appending* data to existing contents to the end of the file |"
   ]
  },
  {
   "cell_type": "code",
   "execution_count": 2,
   "metadata": {},
   "outputs": [],
   "source": [
    "% Set physical constants\n",
    "pureWaterFreezingPoint  = 273.15;  % pure water freezing point/K\n",
    "\n",
    "% Set run parameters\n",
    "deltaT     =    5.0*86400.0;       % time step/s\n",
    "startTime  =    0.0;               % time to start integration/s\n",
    "nTimeSteps =  365;                 % total number of time steps\n",
    "\n",
    "% Set model parameters\n",
    "solarConstant         = 1360.8;    % solar constant/(W m-2)\n",
    "effectiveHeatCapacity = 2.9526E08; % effective heat capacity of the \n",
    "                                   % atmosphere-ocean system/(J m-2 K-1)\n",
    "                                   \n",
    "% Set initial conditions\n",
    "temperature = 15.0 + pureWaterFreezingPoint;\n",
    "myTime      = startTime;\n",
    "\n",
    "% Open output file\n",
    "fileID = fopen('results.txt', 'w');\n",
    "\n",
    "% Write header of output file\n",
    "fprintf(fileID, '%% Zero-dimensional global solar heating model\\n');\n",
    "fprintf(fileID, '%% Column 1: time/a\\n');\n",
    "fprintf(fileID, '%% Column 2: global annual-mean surface temperature/degC\\n');\n",
    "fprintf(fileID, '%10.4f %10.4f\\n', myTime/(86400.0*365.0), ...\n",
    "                                   temperature - pureWaterFreezingPoint);\n",
    " \n",
    "% Time loop (myIter = iteration counter)\n",
    "for myIter=1:nTimeSteps\n",
    "    \n",
    "    % Record simulated time\n",
    "    myTime = myTime + deltaT;\n",
    "    \n",
    "    % Step global annual-mean surface temperature forward in time \n",
    "    % (by \"Euler forward\" or \"forward-in-time\" method)\n",
    "    temperature  = temperature + deltaT/effectiveHeatCapacity* ...\n",
    "                                 (solarConstant/4.0);\n",
    "    \n",
    "    % Write current time and temperature to output file\n",
    "    fprintf(fileID, '%10.4f %10.4f\\n', myTime/(86400.0*365.0), ...\n",
    "                                       temperature - pureWaterFreezingPoint);\n",
    "    \n",
    "end % end of time loop\n",
    "\n",
    "% Close output file\n",
    "fclose(fileID);"
   ]
  },
  {
   "cell_type": "code",
   "execution_count": 3,
   "metadata": {},
   "outputs": [
    {
     "data": {
      "image/png": "[encoded data removed]",
      "text/plain": [
       "<IPython.core.display.Image object>"
      ]
     },
     "metadata": {},
     "output_type": "display_data"
    }
   ],
   "source": [
    "% Open text file and load data\n",
    "filename    = 'results.txt';\n",
    "data        = load(filename);\n",
    "time        = data(:, 1); % column 1: time/a\n",
    "temperature = data(:, 2); % column 2: temperature/degC\n",
    "\n",
    "% Plot the global annual-mean surface temperature as a function of time\n",
    "plot(time, temperature, 'LineWidth', 2);"
   ]
  },
  {
   "cell_type": "code",
   "execution_count": null,
   "metadata": {},
   "outputs": [],
   "source": []
  }
 ],
 "metadata": {
  "kernelspec": {
   "display_name": "Octave",
   "language": "octave",
   "name": "octave"
  },
  "language_info": {
   "file_extension": ".m",
   "help_links": [
    {
     "text": "GNU Octave",
     "url": "https://www.gnu.org/software/octave/support.html"
    },
    {
     "text": "Octave Kernel",
     "url": "https://github.com/Calysto/octave_kernel"
    },
    {
     "text": "MetaKernel Magics",
     "url": "https://metakernel.readthedocs.io/en/latest/source/README.html"
    }
   ],
   "mimetype": "text/x-octave",
   "name": "octave",
   "version": "5.2.0"
  }
 },
 "nbformat": 4,
 "nbformat_minor": 2
}
