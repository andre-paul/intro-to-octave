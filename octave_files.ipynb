{
 "cells": [
  {
   "cell_type": "markdown",
   "metadata": {},
   "source": [
    "# Writing to and Reading from files"
   ]
  },
  {
   "cell_type": "markdown",
   "metadata": {},
   "source": [
    "After executing the M-file script `solar_heating1.m`, only the very last values of the variables `myTime` and `temperature` are retained in the workspace. It is desirable to save all their values to a text file, such that they can be later read and analyzed (e.g., plotted using a separate M-file script `plot_results.m`)."
   ]
  },
  {
   "cell_type": "markdown",
   "metadata": {},
   "source": [
    "## Saving variables to a text file\n",
    "\n",
    "Using the following commands, a text file can be opened, data can be written to it, and finally the filed can be closed again:\n",
    "\n",
    "| Command | Action|\n",
    "| :- | :- |\n",
    "| `fopen` | open a file for output |\n",
    "| `fprintf` | write formatted data to an *open* file |\n",
    "| `fclose` | close an open file |"
   ]
  },
  {
   "cell_type": "markdown",
   "metadata": {},
   "source": [
    "### Opening a text file\n",
    "The syntax for opening a text file is:\n",
    "\n",
    "`fileID = fopen(filename, mode)`\n",
    "\n",
    "Here `fileID` is a variable that in the remainder of the M-file serves to identify the file to be opened.\n",
    "\n",
    "| Value | meaning|\n",
    "| :- | :- |\n",
    "| `r` | open a file for *reading* (this is the default) |\n",
    "| `w` | open an existing file or create a new file for *writing* |\n",
    "|     | (discard existing contents))\n",
    "| `a` | open an existing file or create a new file, |\n",
    "|     | *appending* data to existing contents to the end of the file |\n",
    "\n",
    "For example: \n",
    "\n",
    "`fileID = fopen('results.txt', 'w');`\n",
    "\n",
    "This opens a file `results.txt` with write access (`'w'`) in the `Current Directory`."
   ]
  },
  {
   "cell_type": "markdown",
   "metadata": {},
   "source": [
    "### Writing to a text file\n",
    "The syntax for writing to a file is:\n",
    "\n",
    "`fprintf(fileID, format, variable)`\n",
    "\n",
    "\n",
    "| Variable | meaning|\n",
    "| :- | :- |\n",
    "| `fileID` | directs writing to the file associated with this identifier |\n",
    "| `format` | string that controls the alignment, no. of significant digits |\n",
    "|          | and field width of the output)\n",
    "| `variable` | variable(s) to be written |\n",
    "\n",
    "In the GNU Octave Command Window, you can obtain further information by typing `doc fprintf`."
   ]
  },
  {
   "cell_type": "markdown",
   "metadata": {},
   "source": [
    "### Formatting examples\n",
    "Note that the `format` string must be enclosed in single quotes `'`:\n",
    "\n",
    "| Value | meaning|\n",
    "| :- | :- |\n",
    "| `'Sample text\\n'` | text output followed by a new line |\n",
    "| `%'5.1f\\n'` | decimal notation, `%` denotes the conversion of a number to the specified format |\n",
    "|      | i.e., with field with 5, no. of decimal places 1 and using decimal notation (e.g. 123.4) |\n",
    "| `%'5.1E\\n'` | decimal notation, `%` denotes the conversion of a number to the specified format |\n",
    "|      | i.e., with field with 5, no. of decimal places 1 and using exponential notation (e.g. 123.4E+001) |"
   ]
  },
  {
   "cell_type": "markdown",
   "metadata": {},
   "source": [
    "### Closing a text file\n",
    "The syntax for closing a text file is simply:\n",
    "\n",
    "`fclose(fileID)`\n",
    "\n",
    "This closes the file associated with the file identifier `fileID` (a number)."
   ]
  },
  {
   "cell_type": "markdown",
   "metadata": {},
   "source": [
    "## Version 2 of the solar heating model\n",
    "Your task is now to modify the solar heating model as follows:\n",
    "1. After setting the initial conditions, open a text file called `results.txt`.\n",
    "2. In the time loop, after stepping the global annual-mean surface temperature forward in time, write the current time and and temperature to the output file. Choose years and degrees Celsius as units of time and temperature, respectively. Use a decimal notation with a field width of 10 and 4 decimal places. \n",
    "3. Finally, just before finishing the execution of the script, close the output file.\n",
    "\n",
    "Again, please first try yourself. Then you can proceed to the next section [Solar heating model 2](octave_solar_heating2.ipynb) and compare your steps to the example code."
   ]
  }
 ],
 "metadata": {
  "kernelspec": {
   "display_name": "Octave",
   "language": "octave",
   "name": "octave"
  },
  "language_info": {
   "file_extension": ".m",
   "help_links": [
    {
     "text": "GNU Octave",
     "url": "https://www.gnu.org/software/octave/support.html"
    },
    {
     "text": "Octave Kernel",
     "url": "https://github.com/Calysto/octave_kernel"
    },
    {
     "text": "MetaKernel Magics",
     "url": "https://metakernel.readthedocs.io/en/latest/source/README.html"
    }
   ],
   "mimetype": "text/x-octave",
   "name": "octave",
   "version": "5.2.0"
  }
 },
 "nbformat": 4,
 "nbformat_minor": 2
}
