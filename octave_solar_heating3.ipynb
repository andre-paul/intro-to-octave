{
 "cells": [
  {
   "cell_type": "markdown",
   "metadata": {},
   "source": [
    "# Solar heating model 3"
   ]
  },
  {
   "cell_type": "markdown",
   "metadata": {},
   "source": [
    "The following cell shows the MATLAB/Octave code of the solar heating model after\n",
    "- adding the pure water boiling point to the section in which the physical constants are set and\n",
    "- inserting an `if` statement into the time loop that limits temperature to the boiling point.\n",
    "\n",
    "You can run the resulting version 3 of the solar heating model by executing the following cell, or you can copy and paste the code to an M-file `solar_heating3.m` that you can run in GNU Octave."
   ]
  },
  {
   "cell_type": "code",
   "execution_count": 1,
   "metadata": {},
   "outputs": [],
   "source": [
    "% Set physical constants\n",
    "pureWaterFreezingPoint  = 273.15;  % pure water freezing point/K\n",
    "pureWaterBoilingPoint   = 373.15;  % pure water boiling point/K\n",
    "\n",
    "% Set run parameters\n",
    "deltaT     =    5.0*86400.0;       % time step/s\n",
    "startTime  =    0.0;               % time to start integration/s\n",
    "nTimeSteps =  365;                 % total number of time steps\n",
    "\n",
    "% Set model parameters\n",
    "solarConstant         = 1360.8;    % solar constant/(W m-2)\n",
    "effectiveHeatCapacity = 2.9526E08; % effective heat capacity of the \n",
    "                                   % atmosphere-ocean system/(J m-2 K-1)\n",
    "                                   \n",
    "% Set initial conditions\n",
    "temperature = 15.0 + pureWaterFreezingPoint;\n",
    "myTime      = startTime;\n",
    "\n",
    "% Open output file\n",
    "fileID = fopen('results.txt', 'w');\n",
    "\n",
    "% Write header of output file\n",
    "fprintf(fileID, '%% Zero-dimensional global solar heating model\\n');\n",
    "fprintf(fileID, '%% Column 1: time/a\\n');\n",
    "fprintf(fileID, '%% Column 2: global annual-mean surface temperature/degC\\n');\n",
    "fprintf(fileID, '%10.4f %10.4f\\n', myTime/(86400.0*365.0), ...\n",
    "                                   temperature - pureWaterFreezingPoint);\n",
    " \n",
    "% Time loop (myIter = iteration counter)\n",
    "for myIter=1:nTimeSteps\n",
    "    \n",
    "    % Record simulated time\n",
    "    myTime = myTime + deltaT;\n",
    "    \n",
    "    % Step global annual-mean surface temperature forward in time \n",
    "    % (by \"Euler forward\" or \"forward-in-time\" method)\n",
    "    temperature  = temperature + deltaT/effectiveHeatCapacity* ...\n",
    "                                 (solarConstant/4.0);\n",
    "                                 \n",
    "    % Limit temperature to the boiling point\n",
    "    if temperature > pureWaterBoilingPoint\n",
    "        temperature = pureWaterBoilingPoint;\n",
    "    end\n",
    "    \n",
    "    % Write current time and temperature to output file\n",
    "    fprintf(fileID, '%10.4f %10.4f\\n', myTime/(86400.0*365.0), ...\n",
    "                                       temperature - pureWaterFreezingPoint);\n",
    "    \n",
    "end % end of time loop\n",
    "\n",
    "% Close output file\n",
    "fclose(fileID);"
   ]
  },
  {
   "cell_type": "markdown",
   "metadata": {},
   "source": [
    "To visualize the results in a plot, we can make use of the same code (or M-file script `plot_results.m`) as before. However, it is convenient to explicitly the y-axis to the range between 0 and 200 °C in order to clearly see that the temperature is clipped at the boiling point:"
   ]
  },
  {
   "cell_type": "code",
   "execution_count": 3,
   "metadata": {},
   "outputs": [
    {
     "data": {
      "image/png": "[encoded data removed]",
      "text/plain": [
       "<IPython.core.display.Image object>"
      ]
     },
     "metadata": {},
     "output_type": "display_data"
    }
   ],
   "source": [
    "% Open text file and load data\n",
    "filename    = 'results.txt';\n",
    "data        = load(filename);\n",
    "time        = data(:, 1); % column 1: time/a\n",
    "temperature = data(:, 2); % column 2: temperature/degC\n",
    "\n",
    "% Plot the global annual-mean surface temperature as a function of time\n",
    "plot(time, temperature, 'LineWidth', 2);\n",
    "\n",
    "% Limit the y-axis\n",
    "ylim([0 200])"
   ]
  },
  {
   "cell_type": "markdown",
   "metadata": {},
   "source": [
    "## Summary\n",
    "1. You learned how to integrate ordinary differential equations using a straightforward method that has numerous applications in geosciences and beyond.\n",
    "2. You also saw how to save variables from MATLAB/Octave to a text file and how to read them from a text file and plot them. Saving results to files and later retrieving them for analysis is a common work flow in Earth-system modeling."
   ]
  },
  {
   "cell_type": "markdown",
   "metadata": {},
   "source": [
    "## Next section\n",
    "Now proceed with [Modular programming](octave_functions.ipynb)."
   ]
  }
 ],
 "metadata": {
  "kernelspec": {
   "display_name": "Octave",
   "language": "octave",
   "name": "octave"
  },
  "language_info": {
   "file_extension": ".m",
   "help_links": [
    {
     "text": "GNU Octave",
     "url": "https://www.gnu.org/software/octave/support.html"
    },
    {
     "text": "Octave Kernel",
     "url": "https://github.com/Calysto/octave_kernel"
    },
    {
     "text": "MetaKernel Magics",
     "url": "https://metakernel.readthedocs.io/en/latest/source/README.html"
    }
   ],
   "mimetype": "text/x-octave",
   "name": "octave",
   "version": "5.2.0"
  }
 },
 "nbformat": 4,
 "nbformat_minor": 2
}
