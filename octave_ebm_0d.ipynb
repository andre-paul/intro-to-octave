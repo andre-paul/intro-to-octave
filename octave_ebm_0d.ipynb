{
 "cells": [
  {
   "cell_type": "markdown",
   "metadata": {},
   "source": [
    "# Global (\"zero-dimensional\") energy balance model"
   ]
  },
  {
   "cell_type": "markdown",
   "metadata": {},
   "source": [
    "The implementation of the global (“zero-dimensional”) energy balance model in MATLAB/Octave may be based on version 5 of the “solar heating model”. First create a new directory `Ebm0D` on your computer. Then copy the M-file script `solar_heating5.m` to this directory and rename it to `ebm_0d.m`. Copy the M-file function `run_model.m` and the M-file script `plot_results.m` as well. Finally, open MATLAB/Octave and change to `Ebm0D` as your `Current Directory`. "
   ]
  },
  {
   "cell_type": "markdown",
   "metadata": {},
   "source": [
    "## Implementation"
   ]
  },
  {
   "cell_type": "markdown",
   "metadata": {},
   "source": [
    "1. Add the Stefan-Boltzmann constant $\\sigma$ to the section of the M-file script `ebm_0d.m` in which the physical constants are set:"
   ]
  },
  {
   "cell_type": "markdown",
   "metadata": {},
   "source": [
    "```OCTAVE\n",
    "% Set physical constants\n",
    "[..]\n",
    "stefanBoltzmannConstant = 5.67E-08; % Stefan-Boltzmann\n",
    "                                    % constant/(W m-2 K-1`\n",
    "```"
   ]
  },
  {
   "cell_type": "markdown",
   "metadata": {},
   "source": [
    "Note that `[..]` indicates code omitted from the M-file script or function, while `...` is required in MATLAB if a statement is continued to the next line."
   ]
  },
  {
   "cell_type": "markdown",
   "metadata": {},
   "source": [
    "Furthermore, in the section in which the run parameters are set, ensure that the time step `deltaT` is set to `5.0*86400.0` (5 days) and increase the number of time steps `nTimeSteps` to `3650` (corresponding to 50 years):"
   ]
  },
  {
   "cell_type": "markdown",
   "metadata": {},
   "source": [
    "```OCTAVE\n",
    "% Set run parameters\n",
    "[..]\n",
    "nTimeSteps = 3650; % total number of time steps\n",
    "\n",
    "```"
   ]
  },
  {
   "cell_type": "markdown",
   "metadata": {},
   "source": [
    "There are two additional model parameters: the planetary albedo $\\alpha_{\\rm p}$ and the long-wave emissivity $\\epsilon$ of Earth. The initial surface temperature $T_{\\rm s}$ is to be set to 0 K. Please modify the section in which the model parameters are set accordingly:"
   ]
  },
  {
   "cell_type": "markdown",
   "metadata": {},
   "source": [
    "```OCTAVE\n",
    "% Set model parameters\n",
    "[..]\n",
    "planetaryAlbedo    = 0.3;  % planetary albedo\n",
    "longwaveEmissivity = 0.62; % longwave emissivity\n",
    "initialTemperature = 0.0;  % initial temperature/K\n",
    "```"
   ]
  },
  {
   "cell_type": "markdown",
   "metadata": {},
   "source": [
    "Finally, add the additional physical constant and model parameters to the structure arrays `Constants` and `ModelParameters`, respectively:"
   ]
  },
  {
   "cell_type": "markdown",
   "metadata": {},
   "source": [
    "```OCTAVE\n",
    "% Store constants and parameters in structure arrays\n",
    "[..]\n",
    "Constants.stefanBoltzmannConstant = stefanBoltzmannConstant;\n",
    "[..]\n",
    "ModelParameters.planetaryAlbedo = planetaryAlbedo; ModelParameters.longwaveEmissivity = longwaveEmissivity;\n",
    "\n",
    "```"
   ]
  },
  {
   "cell_type": "markdown",
   "metadata": {},
   "source": [
    "This complets the modifications to the M-file script `ebm0d.m`."
   ]
  },
  {
   "cell_type": "markdown",
   "metadata": {},
   "source": [
    "2. Now turn to the M-file function `run_model.m` and retrieve the additional physical constant and model parameters from the structure arrays `Constants` and `ModelParameters`, respectively:"
   ]
  },
  {
   "cell_type": "markdown",
   "metadata": {},
   "source": [
    "```Octave\n",
    "% Retrieve constants and parameters in structure arrays\n",
    "[..]\n",
    "stefanBoltzmannConstant = Constants.stefanBoltzmannConstant;\n",
    "[..]\n",
    "planetaryAlbedo = ModelParameters.planetaryAlbedo;\n",
    "longwaveEmissivity = ModelParameters.longwaveEmissivity;\n",
    "\n",
    "```"
   ]
  },
  {
   "cell_type": "markdown",
   "metadata": {},
   "source": [
    "Then move to the time loop. Here you need to add the calculation of the shortwave radiation and longwave radiation budgets as well as the temperature tendency:"
   ]
  },
  {
   "cell_type": "markdown",
   "metadata": {},
   "source": [
    "```OCTAVE\n",
    "% Calculate net shortwave radiation budget\n",
    "absorbedSolarRadiation = solarConstant/4.0* ...\n",
    "    (1.0 - planetaryAlbedo);\n",
    "% Calculate net longwave radiation budget\n",
    "outgoingLongwaveRadiation = longwaveEmissivity* ...\n",
    "    stefanBoltzmannConstant*temperature^4;\n",
    "% Calculate time rate of change of surface temperature\n",
    "temperatureTendency = ...\n",
    "    (absorbedSolarRadiation - outgoingLongwaveRadiation)/ ...\n",
    "    effectiveHeatCapacity;\n",
    "```"
   ]
  },
  {
   "cell_type": "markdown",
   "metadata": {},
   "source": [
    "Furthermore, modify the calculation of the temperature at the future time level as follows:"
   ]
  },
  {
   "cell_type": "markdown",
   "metadata": {},
   "source": [
    "```OCTAVE\n",
    "% Step the global annual-mean surface temperature forward\n",
    "% in time (using the \"Euler forward\" method)\n",
    "temperature = temperature + temperatureTendency*deltaT;\n",
    "\n",
    "```"
   ]
  },
  {
   "cell_type": "markdown",
   "metadata": {},
   "source": [
    "Finally, do not forget to delete the if-statement that imposes the boiling point as an upper limit on the temperature!"
   ]
  },
  {
   "cell_type": "markdown",
   "metadata": {},
   "source": [
    "## Exercise"
   ]
  },
  {
   "cell_type": "markdown",
   "metadata": {},
   "source": [
    "Eventually, you can run the M-file script `ebm_0d.m` on the command line of the Command Window in GNU Octave. Check for possible errors and return to the Editor in GNU Octave to inspect the code lines in the respetcive file. Correct the errors and rerun `ebm_0d.m`. If you cannot detect all errors yourself, carefully compare your code to the code segments in this notebook. If all else fail, you may then turn to the next [notebook](octave_ebm_0d_complete_code.ipynb) that provides the entire code of the zero-dimensional enegry balance model. However, it is highly recommend to first try yourself, which helps you to gain a deeper understanding of writing, testing and correcting a program (this process is called \"debugging\") and gives you a much greater satisfaction than just copying provided code."
   ]
  },
  {
   "cell_type": "markdown",
   "metadata": {},
   "source": [
    "Once you have a working copy of the zero-dimensional energy balance model, you can address the questions posed in the handout [What determines the global-mean temperature of Earth?](https://seafile.zfn.uni-bremen.de/f/271336bb3c704a75b724/) by changing model parameters and initial conditions and comparing results to a simulation with the default values."
   ]
  },
  {
   "cell_type": "markdown",
   "metadata": {},
   "source": [
    "## Next section\n",
    "After first implementing and testing the zero-dimensional energy balance model and then using it to address questions regarding the global-mean tempertaure of Earth, you will proceed to the one-dimensional advection problem."
   ]
  }
 ],
 "metadata": {
  "kernelspec": {
   "display_name": "Octave",
   "language": "octave",
   "name": "octave"
  },
  "language_info": {
   "file_extension": ".m",
   "help_links": [
    {
     "text": "GNU Octave",
     "url": "https://www.gnu.org/software/octave/support.html"
    },
    {
     "text": "Octave Kernel",
     "url": "https://github.com/Calysto/octave_kernel"
    },
    {
     "text": "MetaKernel Magics",
     "url": "https://metakernel.readthedocs.io/en/latest/source/README.html"
    }
   ],
   "mimetype": "text/x-octave",
   "name": "octave",
   "version": "5.2.0"
  }
 },
 "nbformat": 4,
 "nbformat_minor": 2
}
