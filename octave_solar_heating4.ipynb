{
 "cells": [
  {
   "cell_type": "markdown",
   "metadata": {},
   "source": [
    "# Solar heating model 4"
   ]
  },
  {
   "cell_type": "markdown",
   "metadata": {},
   "source": [
    "The following two cells show the MATLAB/Octave code of the solar heating model after\n",
    "- placing the entire integration of the model in a separate M-file function `run_model.m` and\n",
    "- calling this function from the M-file script `solar_heating4.m` just after setting the model parameters.\n",
    "\n",
    "You can run the resulting version 4 of the solar heating model by executing the following cells, or you can copy and paste the code to two M-files `run_model.m` and `solar_heating4.m` that you can run in GNU Octave by executing the main program `solar_heating4`."
   ]
  },
  {
   "cell_type": "code",
   "execution_count": 1,
   "metadata": {},
   "outputs": [
    {
     "name": "stdout",
     "output_type": "stream",
     "text": [
      "Created file '/Users/andre/Development/intro-to-octave/run_model.m'.\n"
     ]
    }
   ],
   "source": [
    "%%file run_model.m\n",
    "\n",
    "function run_model(pureWaterFreezingPoint, pureWaterBoilingPoint, ...\n",
    "    deltaT, startTime, nTimeSteps, fileName, ...\n",
    "    solarConstant, effectiveHeatCapacity, initialTemperature)\n",
    "% RUN_MODEL Direct model integration.\n",
    "% RUN_MODEL directs the integration of the zero-dimensional solar heating model.\n",
    "\n",
    "% Author:           Andre Paul\n",
    "% Written:          2011-11-30\n",
    "% Last updated:     2019-10-31\n",
    "%\n",
    "% Dependencies:     none\n",
    "%\n",
    "% It is assumed that all run parameters, model parameters and initial\n",
    "% conditions were set and all output files were opened prior to the call to \n",
    "% this M-file function.\n",
    "\n",
    "% Set initial conditions\n",
    "myTime      = startTime;\n",
    "temperature = initialTemperature;\n",
    "\n",
    "% Open output file\n",
    "fileID = fopen(fileName, 'w');\n",
    "\n",
    "% Write header of output file\n",
    "fprintf(fileID, '%% Zero-dimensional global solar heating model\\n');\n",
    "fprintf(fileID, '%% Column 1: time/a\\n');\n",
    "fprintf(fileID, '%% Column 2: global annual-mean surface temperature/degC\\n');\n",
    "fprintf(fileID, '%10.4f %10.4f\\n', myTime/(86400.0*365.0), ...\n",
    "                                   temperature - pureWaterFreezingPoint);\n",
    "\n",
    "% Time loop (myIter = iteration counter)\n",
    "for myIter=1:nTimeSteps\n",
    "    \n",
    "    % Record simulated time\n",
    "    myTime = myTime + deltaT;\n",
    "    \n",
    "    % Step global annual-mean surface temperature forward in time \n",
    "    % (by \"Euler forward\" or \"forward-in-time\" method)\n",
    "    temperature  = temperature + deltaT/effectiveHeatCapacity* ...\n",
    "                                 (solarConstant/4.0);\n",
    "                                 \n",
    "    % Limit temperature to the boiling point\n",
    "    if temperature > pureWaterBoilingPoint\n",
    "        temperature = pureWaterBoilingPoint;\n",
    "    end\n",
    "    \n",
    "    % Write current time and temperature to output file\n",
    "    fprintf(fileID, '%10.4f %10.4f\\n', myTime/(86400.0*365.0), ...\n",
    "                                       temperature - pureWaterFreezingPoint);\n",
    "    \n",
    "end % end of time loop\n",
    "\n",
    "% Close output file\n",
    "fclose(fileID);"
   ]
  },
  {
   "cell_type": "code",
   "execution_count": 2,
   "metadata": {},
   "outputs": [],
   "source": [
    "% SOLAR_HEATING4 Zero-dimensional (global) solar heating model.\n",
    "% SOLAR_HEATING4 is an example of how to solve a first-order ordinary\n",
    "% differential equation numerically: It calculates the global annual-mean\n",
    "% surface temperature as a function time, assuming that there is no other\n",
    "% energy flux than the average flux of solar energy incident on Earth.\n",
    "\n",
    "% Version 4 calls an M-file function.\n",
    "%\n",
    "% Author:           Andre Paul\n",
    "% Written:          2016-10-27\n",
    "% Last updated:     2019-10-31\n",
    "%\n",
    "% Execution:        solar_heating4\n",
    "% Dependencies:     run_model\n",
    "%\n",
    "% >> solar_heating4\n",
    "\n",
    "% Set physical constants\n",
    "pureWaterFreezingPoint  = 273.15;  % pure water freezing point/K\n",
    "pureWaterBoilingPoint   = 373.15;  % pure water boiling point/K\n",
    "\n",
    "% Set run parameters\n",
    "deltaT     =    5.0*86400.0;       % time step/s\n",
    "startTime  =    0.0;               % time to start integration/s\n",
    "nTimeSteps =  365;                 % total number of time steps\n",
    "fileName   = \"results.txt\";        % output file name\n",
    "\n",
    "% Set model parameters\n",
    "solarConstant         = 1360.8;    % solar constant of Earth/(W m-2)\n",
    "effectiveHeatCapacity = 2.9526E08; % effective heat capacity of the \n",
    "                                   % atmosphere-ocean system/(J m-2 K-1)\n",
    "initialTemperature    = 15.0 + pureWaterFreezingPoint; % initial temperature/K\n",
    "\n",
    "% Run model\n",
    "run_model(pureWaterFreezingPoint, pureWaterBoilingPoint, ...\n",
    "          deltaT, startTime, nTimeSteps, fileName, ...\n",
    "          solarConstant, effectiveHeatCapacity, ...\n",
    "          initialTemperature);"
   ]
  },
  {
   "cell_type": "markdown",
   "metadata": {},
   "source": [
    "To visualize the results in a plot, we can make use of the same code (or M-file script `plot_results.m`) as before:"
   ]
  },
  {
   "cell_type": "code",
   "execution_count": 3,
   "metadata": {},
   "outputs": [
    {
     "data": {
      "image/png": "[encoded data removed]",
      "text/plain": [
       "<IPython.core.display.Image object>"
      ]
     },
     "metadata": {},
     "output_type": "display_data"
    }
   ],
   "source": [
    "% PLOT_RESULTS Plot data from a text file.\n",
    "% PLOT_RESULTS is a simple example of how to load some model results from a\n",
    "% text file and plot it.\n",
    "\n",
    "% Author:           Andre Paul\n",
    "% Written:          2014-10-16\n",
    "% Last updated:     2016-10-28\n",
    "%\n",
    "% Execution:        plot_results\n",
    "% Dependencies:     none\n",
    "%\n",
    "% >> plot_results\n",
    "\n",
    "% Open text file and load data\n",
    "filename    = 'results.txt';\n",
    "data        = load(filename);\n",
    "time        = data(:, 1); % column 1: time/a\n",
    "temperature = data(:, 2); % column 2: temperature/degC\n",
    "\n",
    "% Plot the global annual-mean surface temperature as a function of time\n",
    "figure\n",
    "plot(time, temperature, 'LineWidth', 2);\n",
    "\n",
    "% Display axes grid lines\n",
    "grid on\n",
    "\n",
    "% Set the plot limits\n",
    "ylim([0 200])\n",
    "\n",
    "% Set the font size of the tick labels of the current axes\n",
    "% (\"gca\" returns the handle to the current axes for the current figure)\n",
    "set(gca, 'FontSize', 18)\n",
    "\n",
    "% Make the labels\n",
    "xlabel('Time/a', 'FontSize', 18)\n",
    "ylabel('Temperature/degC', 'FontSize', 18)\n",
    "title('Zero-dimensional global solar heating model', ...\n",
    "      'FontSize', 20)"
   ]
  },
  {
   "cell_type": "markdown",
   "metadata": {},
   "source": [
    "## Next section\n",
    "Now proceed with [Structure arrays](octave_structure_arrays.ipynb)."
   ]
  }
 ],
 "metadata": {
  "kernelspec": {
   "display_name": "Octave",
   "language": "octave",
   "name": "octave"
  },
  "language_info": {
   "file_extension": ".m",
   "help_links": [
    {
     "text": "GNU Octave",
     "url": "https://www.gnu.org/software/octave/support.html"
    },
    {
     "text": "Octave Kernel",
     "url": "https://github.com/Calysto/octave_kernel"
    },
    {
     "text": "MetaKernel Magics",
     "url": "https://metakernel.readthedocs.io/en/latest/source/README.html"
    }
   ],
   "mimetype": "text/x-octave",
   "name": "octave",
   "version": "5.2.0"
  }
 },
 "nbformat": 4,
 "nbformat_minor": 2
}
