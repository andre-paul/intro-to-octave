{
 "cells": [
  {
   "cell_type": "markdown",
   "metadata": {},
   "source": [
    "# Introduction to programming using Octave"
   ]
  },
  {
   "cell_type": "markdown",
   "metadata": {},
   "source": [
    "---\n",
    "## Contents\n",
    "1. [Contents and introduction](index.ipynb)\n",
    "1. [Installing and running Octave](octave_installing_and_running.ipynb)\n",
    "1. [Basic calculations and commands](octave_basics.ipynb)\n",
    "1. [Matrices](octave_matrices.ipynb)\n",
    "1. [Graphics](octave_graphics.ipynb)\n",
    "1. [M-file scripts](octave_scripts.ipynb)\n",
    "1. [Solar heating model 1](octave_solar_heating1.ipynb)\n",
    "1. [Writing to and reading from files](octave_files.ipynb)\n",
    "1. [Solar heating model 2](octave_solar_heating2.ipynb)\n",
    "1. [Flow control statements](octave_flow_control.ipynb)\n",
    "1. [Solar heating model 3](octave_solar_heating3.ipynb)\n",
    "1. [Modular programming](octave_functions.ipynb)\n",
    "1. [Solar heating model 4](octave_solar_heating4.ipynb)\n",
    "1. [Structure arrays](octave_structure_arrays.ipynb)\n",
    "1. [Solar heating model 5](octave_solar_heating5.ipynb)"
   ]
  },
  {
   "cell_type": "markdown",
   "metadata": {},
   "source": [
    "---\n",
    "## Introduction"
   ]
  },
  {
   "cell_type": "markdown",
   "metadata": {},
   "source": [
    "### Why programming?\n",
    "Earth-system models are mathematical descriptions of our environment. The underlying calculations have to be repeated many times. A computer is the ideal tool for carrying out such boring task. To get a computer to perform a specific task, it must be given a sequence of unambiguous instructions in terms of a program or script."
   ]
  },
  {
   "cell_type": "markdown",
   "metadata": {},
   "source": [
    "### Why MATLAB/Octave?\n",
    "There is a great variety of programming languages such as Basic, C, C++, Fortran, Pascal, Java, Python, R etc.. Each comes with its own strength in specific fields. MATLAB stands for MATrix LABoratory, because the system was originally designed to make matrix computation particularly easy. While other programming laguages have recently gained popularity, MATLAB is still used by engineers and scientists around the world. MATLAB/Octave, similar to Python and R, combines the power of a classical programming language for computation with numerous extra tools, especially for plotting and visualization."
   ]
  },
  {
   "cell_type": "markdown",
   "metadata": {},
   "source": [
    "Thus __[GNU Octave](https://www.gnu.org/software/octave/index)__ is a scientific programming language with built-in plotting and visualization tools. To a large degree, it is compatible with MATLAB. However, in contrast to MATLAB it is free software, which you can install and run on your Windows, Mac or Linux computer. General information on downloading GNU Octave is given here: https://www.gnu.org/software/octave/download.html"
   ]
  },
  {
   "cell_type": "markdown",
   "metadata": {},
   "source": [
    "---\n",
    "### Getting started\n",
    "This course consists of interactive _[Jupyter notebooks](http://jupyter.org)_. In a Jupyter notebook, you can run code, but in addition you can include text, equations, images and more.\n",
    "\n",
    "There are a number of ways to use these notebooks:\n",
    "1. Without any further preparation, you can work on this course online for a maximum of one hour. Just double click once on, for example, *this text*. If you can now edit the cell, then you are already in the interactive mode; just press `<SHIFT> + <ENTER>` and read on. If not, click on the following link to activate the interactive mode: [Start working online](https://mybinder.org/v2/gh/andre-paul/intro-to-octave/master?filepath=index.ipynb)\n",
    "2. Alternatively, you can use [Octave Online](https://octave-online.net), which is a web user interface for Octave. You can type commands at the prompt like you would in a local copy of Octave. This way, you can follow the course and use copy and paste to run Octave code. If you sign (say, by email, first via an email token, then via a password), you can even create, use and share M-file scripts, which comes particularly handy for the more advanced part of this course.\n",
    "3. Of course, you can also install Octave locally on your own computer and similarly follow this course, that is, use copy and paste to run Octave code using the Octave Command Window and M-file editor: [Installing and running Octave](octave_installing_and_running.ipynb)\n",
    "4. In addition to installing Octave locally, you may install Jupyter Notebook, in which case you can download the course notebooks by [cloning](https://github.com/git-guides/git-clone) the [GitHub repository](https://github.com/andre-paul/IntroductionToProgramming/tree/main/Octave) and run them offline on your own computer.\n",
    "\n",
    "After carrying out one these steps, you can proceed with\n",
    "- [Basic calculations and commands](octave_basics.ipynb)"
   ]
  },
  {
   "cell_type": "markdown",
   "metadata": {},
   "source": [
    "---\n",
    "###  Reading/video tutorials\n",
    "__[Ross L. Spencer and Michael Ware (2019)\n",
    "Introduction to MATLAB](https://www.physics.byu.edu/courses/computational/docs/phys330/matlab.pdf)__\n",
    "\n",
    "__[Mr. STEM EDU TV: Octace step-by-step tutorials](https://www.youtube.com/channel/UCot2UYGacgxDiyjZqrMbTSQ)__"
   ]
  }
 ],
 "metadata": {
  "kernelspec": {
   "display_name": "Octave",
   "language": "octave",
   "name": "octave"
  },
  "language_info": {
   "file_extension": ".m",
   "help_links": [
    {
     "text": "GNU Octave",
     "url": "https://www.gnu.org/software/octave/support.html"
    },
    {
     "text": "Octave Kernel",
     "url": "https://github.com/Calysto/octave_kernel"
    },
    {
     "text": "MetaKernel Magics",
     "url": "https://metakernel.readthedocs.io/en/latest/source/README.html"
    }
   ],
   "mimetype": "text/x-octave",
   "name": "octave",
   "version": "5.2.0"
  }
 },
 "nbformat": 4,
 "nbformat_minor": 2
}
