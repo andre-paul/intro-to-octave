{
 "cells": [
  {
   "cell_type": "markdown",
   "metadata": {},
   "source": [
    "# Global (\"zero-dimensional\") energy balance model - complete code"
   ]
  },
  {
   "cell_type": "markdown",
   "metadata": {},
   "source": [
    "This notebook is intended for comparing to a working copy of the zero-dimensional energy balance model and helping you to \"debug\" your own code."
   ]
  },
  {
   "cell_type": "markdown",
   "metadata": {},
   "source": [
    "The following cell contains the complete code of the M-file script `run_model.m`. Note that the first line is only necessary in a Jupyter notebook. The reason is that in MATLAB/Octave a function has to be in a separate file, with the function name being the file name. Fortunately, the “%%file” magic in a Jupyter notebook allows us to write a code cell to a file."
   ]
  },
  {
   "cell_type": "code",
   "execution_count": 13,
   "metadata": {},
   "outputs": [
    {
     "name": "stdout",
     "output_type": "stream",
     "text": [
      "Created file '/Users/andre/Development/intro-to-octave/run_model.m'.\n"
     ]
    }
   ],
   "source": [
    "%%file run_model.m\n",
    "\n",
    "function run_model(Constants, RunParameters, ModelParameters)\n",
    "% RUN_MODEL Direct model integration.\n",
    "% RUN_MODEL directs the integration of the zero-dimensional energy-budget model.\n",
    "\n",
    "% Author:           Andre Paul\n",
    "% Written:          2011-11-30\n",
    "% Last updated:     2019-10-31\n",
    "%\n",
    "% Dependencies:     none\n",
    "%\n",
    "% It is assumed that all run parameters, model parameters and initial\n",
    "% conditions were set and all output files were opened prior to the call to \n",
    "% this M-file function.\n",
    "\n",
    "% Retrieve constants and parameters in structure arrays\n",
    "stefanBoltzmannConstant = Constants.stefanBoltzmannConstant;\n",
    "pureWaterFreezingPoint  = Constants.pureWaterFreezingPoint;\n",
    "deltaT                  = RunParameters.deltaT;\n",
    "startTime               = RunParameters.startTime;\n",
    "nTimeSteps              = RunParameters.nTimeSteps;\n",
    "fileName                = RunParameters.fileName;\n",
    "solarConstant           = ModelParameters.solarConstant;\n",
    "planetaryAlbedo         = ModelParameters.planetaryAlbedo;\n",
    "longwaveEmissivity      = ModelParameters.longwaveEmissivity;\n",
    "effectiveHeatCapacity   = ModelParameters.effectiveHeatCapacity;\n",
    "initialTemperature      = ModelParameters.initialTemperature;\n",
    "\n",
    "% Set initial conditions\n",
    "myTime      = startTime;\n",
    "temperature = initialTemperature;\n",
    "\n",
    "% Open output file\n",
    "fileID = fopen(fileName, 'w');\n",
    "\n",
    "% Write header of output file\n",
    "fprintf(fileID, '%% Zero-dimensional global energy budget-climate model\\n');\n",
    "fprintf(fileID, '%% Column 1: time/a\\n');\n",
    "fprintf(fileID, '%% Column 2: global annual-mean surface temperature/degC\\n');\n",
    "fprintf(fileID, '%10.4f %10.4f\\n', myTime/(86400.0*365.0), ...\n",
    "                                   temperature - pureWaterFreezingPoint);\n",
    "\n",
    "% Time loop (myIter = iteration counter)\n",
    "for myIter=1:nTimeSteps\n",
    "    \n",
    "    % Record simulated time\n",
    "    myTime = myTime + deltaT;\n",
    "\n",
    "    % Calculate net shortwave radiation budget\n",
    "    absorbedSolarRadiation = solarConstant/4.0*(1.0 - planetaryAlbedo);\n",
    "\n",
    "    % Calculate net longwave radiation budget\n",
    "    outgoingLongwaveRadiation = longwaveEmissivity* ...\n",
    "                                stefanBoltzmannConstant*temperature^4;\n",
    "                            \n",
    "    % Calculate time rate of change of surface temperature\n",
    "    temperatureTendency = ...\n",
    "        (absorbedSolarRadiation - outgoingLongwaveRadiation)/ ...\n",
    "        effectiveHeatCapacity;\n",
    "    \n",
    "    % Step global annual-mean surface temperature forward in time \n",
    "    % (by \"Euler forward\" or \"forward-in-time\" method)\n",
    "    temperature  = temperature + temperatureTendency*deltaT;\n",
    "    \n",
    "    % Write current time and temperature to output file\n",
    "    fprintf(fileID, '%10.4f %10.4f\\n', myTime/(86400.0*365.0), ...\n",
    "                                       temperature - pureWaterFreezingPoint);\n",
    "\n",
    "end % end of time loop\n",
    "\n",
    "% Close output file\n",
    "fclose(fileID);"
   ]
  },
  {
   "cell_type": "markdown",
   "metadata": {},
   "source": [
    "The following cell contains the complete code of the M-file script `ebm_0d.m`:"
   ]
  },
  {
   "cell_type": "code",
   "execution_count": 16,
   "metadata": {},
   "outputs": [],
   "source": [
    "% EBM0D Zero-dimensional (global) energy balance model.\n",
    "% EBM0D is a zero-dimensional energy balance model that calculates\n",
    "% the global annual-mean surface temperature as a function time, using the\n",
    "% Stefan-Boltzmann law and an effective longwave emissivity parameter for\n",
    "% the outgoing longwave radiation.\n",
    "\n",
    "% This version demonstrates the use of structure arrays as well as of an\n",
    "% M-file function.\n",
    "%\n",
    "% Author:           Andre Paul\n",
    "% Written:          2012-11-30\n",
    "% Last updated:     2019-10-31\n",
    "%\n",
    "% Execution:        ebm_0d\n",
    "% Dependencies:     run_model\n",
    "%\n",
    "% >> ebm_0d\n",
    "\n",
    "% Set physical constants\n",
    "stefanBoltzmannConstant = 5.67E-08; % Stefan-Boltzmann constant/(W m-2 K-1)                                \n",
    "pureWaterFreezingPoint  = 273.15;   % pure water freezing point/K\n",
    "\n",
    "% Set run parameters\n",
    "deltaT     =    5.0*86400.0;        % time step/s\n",
    "startTime  =    0.0;                % time to start integration/s\n",
    "nTimeSteps = 3650;                  % total number of time steps\n",
    "fileName   = 'results.txt';         % output file name\n",
    "\n",
    "% Set model parameters\n",
    "solarConstant         = 1360.8;     % solar constant of Earth/(W m-2)\n",
    "planetaryAlbedo       = 0.3;        % average planetary albedo of Earth\n",
    "longwaveEmissivity    = 0.60;       % longwave emissivity of Earth\n",
    "effectiveHeatCapacity = 2.9526E08;  % effective heat capacity of the \n",
    "                                    % atmosphere-ocean system/(J m-2 K-1)\n",
    "initialTemperature    = 0.0;        % initial temperature/K\n",
    "\n",
    "% Store constants and parameters in structure arrays\n",
    "Constants.stefanBoltzmannConstant      = stefanBoltzmannConstant;\n",
    "Constants.pureWaterFreezingPoint       = pureWaterFreezingPoint;\n",
    "RunParameters.deltaT                   = deltaT;\n",
    "RunParameters.startTime                = startTime;\n",
    "RunParameters.nTimeSteps               = nTimeSteps;\n",
    "RunParameters.fileName                 = fileName;\n",
    "ModelParameters.solarConstant          = solarConstant;\n",
    "ModelParameters.planetaryAlbedo        = planetaryAlbedo;\n",
    "ModelParameters.longwaveEmissivity     = longwaveEmissivity;\n",
    "ModelParameters.effectiveHeatCapacity  = effectiveHeatCapacity;\n",
    "ModelParameters.initialTemperature     = initialTemperature;\n",
    "\n",
    "% Run model\n",
    "run_model(Constants, RunParameters, ModelParameters);"
   ]
  },
  {
   "cell_type": "markdown",
   "metadata": {},
   "source": [
    "The following cell contains the complete code of the M-file script `plot_results.m`:"
   ]
  },
  {
   "cell_type": "code",
   "execution_count": 17,
   "metadata": {},
   "outputs": [
    {
     "data": {
      "image/png": "[encoded data removed]",
      "text/plain": [
       "<IPython.core.display.Image object>"
      ]
     },
     "metadata": {},
     "output_type": "display_data"
    }
   ],
   "source": [
    "% PLOT_RESULTS Plot data from a text file.\n",
    "% PLOT_RESULTS is a simple example of how to load some model results from a\n",
    "% text file and plot it.\n",
    "\n",
    "% Author:           Andre Paul\n",
    "% Written:          2014-10-16\n",
    "% Last updated:     2019-10-31\n",
    "%\n",
    "% Execution:        plot_results\n",
    "% Dependencies:     none\n",
    "%\n",
    "% >> plot_results\n",
    "\n",
    "% Open text file and load data\n",
    "filename    = 'results.txt';\n",
    "data        = load(filename);\n",
    "time        = data(:, 1); % column 1: time/a\n",
    "temperature = data(:, 2); % column 2: temperature/degC\n",
    "\n",
    "% Plot the global annual-mean surface temperature as a function of time\n",
    "figure\n",
    "plot(time, temperature, 'LineWidth', 2);\n",
    "\n",
    "% Display axes grid lines\n",
    "grid on\n",
    "\n",
    "% Set the plot limits\n",
    "ylim([-280 50])\n",
    "\n",
    "% Set the font size of the tick labels of the current axes\n",
    "% (\"gca\" returns the handle to the current axes for the current figure)\n",
    "set(gca, 'FontSize', 18)\n",
    "\n",
    "% Make the labels\n",
    "xlabel('Time/a', 'FontSize', 18)\n",
    "ylabel('Temperature/degC', 'FontSize', 18)\n",
    "title('Zero-dimensional energy balance model', ...\n",
    "      'FontSize', 20)"
   ]
  },
  {
   "cell_type": "markdown",
   "metadata": {},
   "source": [
    "The plot shows the evolution of the global-mean surface temeperature as simulated by the zero-dimensional global energy balance model with the default values of the model and run parameters."
   ]
  }
 ],
 "metadata": {
  "kernelspec": {
   "display_name": "Octave",
   "language": "octave",
   "name": "octave"
  },
  "language_info": {
   "file_extension": ".m",
   "help_links": [
    {
     "text": "GNU Octave",
     "url": "https://www.gnu.org/software/octave/support.html"
    },
    {
     "text": "Octave Kernel",
     "url": "https://github.com/Calysto/octave_kernel"
    },
    {
     "text": "MetaKernel Magics",
     "url": "https://metakernel.readthedocs.io/en/latest/source/README.html"
    }
   ],
   "mimetype": "text/x-octave",
   "name": "octave",
   "version": "5.2.0"
  }
 },
 "nbformat": 4,
 "nbformat_minor": 2
}
