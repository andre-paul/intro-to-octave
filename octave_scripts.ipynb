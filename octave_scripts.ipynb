{
 "cells": [
  {
   "cell_type": "markdown",
   "metadata": {},
   "source": [
    "# M-files"
   ]
  },
  {
   "cell_type": "markdown",
   "metadata": {},
   "source": [
    "So far, we have executed the commands in the command window of the graphical user interface or in one cell after the other in a Jupyter notebook. For a longer sequence of commands, a more practical way is to create an M-file using the M-file editor. Alternatively, if you have not installed GNU Octave on your local computer yet (see [Installing and running Octave](octave_installing_and_running.ipynb)), you can also use [Octave Online](https://octave-online.net).\n",
    "\n",
    "In short:\n",
    "- An M-file is a text file that consists of a sequence of MATLAB/Octave commands.\n",
    "- MATLAB/Octave executes the commands in an M-file exactly as if they were entered in the MATLAB/Octave command window.\n",
    "\n",
    "In the following, we will create, edit and run an M-file script in GNU Octave."
   ]
  },
  {
   "cell_type": "markdown",
   "metadata": {},
   "source": [
    "## Creating an M-file\n",
    "To create a new M-file script or function, click on the icon in the upper left corner of the Octave GUI:\n",
    "<img src=\"octave_screenshot_gui_new_script.png\"/>"
   ]
  },
  {
   "cell_type": "markdown",
   "metadata": {},
   "source": [
    "## Editing an M-file\n",
    "In the M-file editor, you can enter a sqeuence of MATLAB/Octave commands line by line. The MATLAB/Octave syntax is highlighted. Comment lines that explain the code start with a `%` sign. As an example, you can either run the following piece of code that simply plots the sine curve in this notebook, or you can copy and paste it to the M-file editor, save it as an M-file callled `plot_sine.m` and run it from the M-file editor or the command window (see below)."
   ]
  },
  {
   "cell_type": "code",
   "execution_count": 1,
   "metadata": {},
   "outputs": [
    {
     "data": {
      "image/png": "[encoded data removed]",
      "text/plain": [
       "<IPython.core.display.Image object>"
      ]
     },
     "metadata": {},
     "output_type": "display_data"
    }
   ],
   "source": [
    "% PLOT_SINE Plot the sine curve.\n",
    "% Cf. Spencer and Ware (2019), Chapter 15, Publication Quality Plots\n",
    "\n",
    "% Create the data to plot\n",
    "x = 0:pi/100:2*pi; % define vector of x-values\n",
    "y = sin(x);        % calculate vector of y-values\n",
    "\n",
    "% Make the plot\n",
    "plot(x, y)\n",
    "\n",
    "% Display axes grid lines\n",
    "grid on\n",
    "\n",
    "% Set the plot limits\n",
    "axis([0 2*pi -1.1 1.1])\n",
    "\n",
    "% Set the font size of the tick labels of the current axes\n",
    "% (\"gca\" returns the handle to the current axes for the current figure)\n",
    "set(gca, 'FontSize', 18)\n",
    "\n",
    "% Make the labels\n",
    "xlabel('x', 'FontSize', 18)\n",
    "ylabel('sin(x)', 'FontSize', 18)\n",
    "title('Plot of the sine function', 'FontSize', 20)"
   ]
  },
  {
   "cell_type": "markdown",
   "metadata": {},
   "source": [
    "## The M-file editor"
   ]
  },
  {
   "cell_type": "markdown",
   "metadata": {},
   "source": [
    "<img src=\"octave_screenshot_gui_editor.png\"/>"
   ]
  },
  {
   "cell_type": "markdown",
   "metadata": {},
   "source": [
    "## Running an M-file\n",
    "There are two ways to now run the M-file script:\n",
    "- You can either click on the button with the arrow `Save File and Run`in the M-file editor (see above) or\n",
    "- change to the command window, type the name of the M-file script (but without extension `.m`) at the command line and press the enter key (see below)."
   ]
  },
  {
   "cell_type": "markdown",
   "metadata": {},
   "source": [
    "<img src=\"octave_screenshot_gui_run_command_window.png\"/>"
   ]
  },
  {
   "cell_type": "markdown",
   "metadata": {},
   "source": [
    "# Solar heating model\n",
    "\n",
    "## Fundamental equation\n",
    "As a more complex example, consider a simple model for the solar heating of a water planet:"
   ]
  },
  {
   "cell_type": "markdown",
   "metadata": {},
   "source": [
    "`new temperature = old temperature + temperature change`"
   ]
  },
  {
   "cell_type": "markdown",
   "metadata": {},
   "source": [
    "The temperature change is given by the average flux of solar energy, divided by the heat capacity of the water planet, times the duration of heating:"
   ]
  },
  {
   "cell_type": "markdown",
   "metadata": {},
   "source": [
    "`temperature change = average flux of solar energy / heat capacity x duration`"
   ]
  },
  {
   "cell_type": "markdown",
   "metadata": {},
   "source": [
    "The solar energy flux is given by the total solar irradiance (TSI, the irradiance of the solar emission at the mean distance of the Earth from the Sun, Hartmann, 2016, p. 29) times the shadow area of Earth (see Figure 2.2 in Hartmann, 2016).\n",
    "- The shadow area is the area that the planet sweeps out of the beam of parallel energy flux. It is equal to $\\pi\\,r_{\\rm p}^2$, where $r_{\\rm p}$ is the radius of the solid planet.\n",
    "- The TSI is also called the *solar constant* $S_0$. The best and most recent estimate of the TSI is $S_0 = (1360.8 \\pm 0.5)\\;{\\rm W}\\,{\\rm m}^{−2}$.\n",
    "\n",
    "Since the area presented to the incoming solar radiation by the rotating Earth (over any period longer than a day) is $4\\,\\pi\\,r_{\\rm p}^2$, the average flux of solar energy is\n",
    "$ \\begin{equation}\n",
    "  \\frac{S_0\\,\\pi\\,r_{\\rm p}^2}{4\\,\\pi\\,r_{\\rm p}^2} = \\frac{S_0}{4}\\;.\n",
    "\\end{equation}$"
   ]
  },
  {
   "cell_type": "markdown",
   "metadata": {},
   "source": [
    "We choose a a value for the effective heat capacity $\\overline{C}_{\\rm ao} = 2.9526\\times10^8\\;{\\rm J}\\,{\\rm m}^2\\,{\\rm K}^{-1}$ (Hartmann, 1994) that corresponds to the ocean mixed layer, which is the upper 50 m to 70 m of the ocean that is in direct contact with the atmosphere through the ocean surface."
   ]
  },
  {
   "cell_type": "markdown",
   "metadata": {},
   "source": [
    "Finally, in the context of numerically solving the underlying ordinary differential equation, the duration of heating is called the *time step*, and it is denoted by $\\Delta t$."
   ]
  },
  {
   "cell_type": "markdown",
   "metadata": {},
   "source": [
    "In summary, the temperature change can be calculated according to:"
   ]
  },
  {
   "cell_type": "markdown",
   "metadata": {},
   "source": [
    "`temperature change` = $\\frac{1}{\\overline{C}_{\\rm ao}}\\frac{S_0}{4}\\times\\Delta t\\;.$"
   ]
  },
  {
   "cell_type": "markdown",
   "metadata": {},
   "source": [
    "The new temperature can now be calculated from the old temperature as follows:"
   ]
  },
  {
   "cell_type": "markdown",
   "metadata": {},
   "source": [
    "$T_{\\rm new} = T_{\\rm old} + \\frac{1}{\\overline{C}_{\\rm ao}}\\frac{S_0}{4}\\times\\Delta t\\;.$"
   ]
  },
  {
   "cell_type": "markdown",
   "metadata": {},
   "source": [
    "## Numerical solution by iteration\n",
    "To approximate the time-dependent evolution of temperature, we use the Euler method and iterate:"
   ]
  },
  {
   "cell_type": "markdown",
   "metadata": {},
   "source": [
    "<img src=\"figure_euler_method.png\"/>"
   ]
  },
  {
   "cell_type": "markdown",
   "metadata": {},
   "source": [
    "## `for` loop\n",
    "In MATLAB/Octave, such an iteration can be expressed in a compact way as a `for` loop:"
   ]
  },
  {
   "cell_type": "markdown",
   "metadata": {},
   "source": [
    "for *index* = *values*\n",
    "> *group of statements*\n",
    "\n",
    "end\n",
    "\n",
    "A `for` loop executes a group of statements repeatedly for a specified number of times. For example, to record the elapsed time in a numerical simulation:"
   ]
  },
  {
   "cell_type": "code",
   "execution_count": 4,
   "metadata": {},
   "outputs": [],
   "source": [
    "deltaT = 86400.0; % time step/s\n",
    "nTimeSteps = 365; % number of time steps\n",
    "\n",
    "myTime = 0.0;\n",
    "for myIter=1:nTimeSteps\n",
    "    myTime = myTime + deltaT;\n",
    "    % disp(myTime)\n",
    "end"
   ]
  },
  {
   "cell_type": "markdown",
   "metadata": {},
   "source": [
    "Try activating the command disp(myTime) by removing the % sign, and you will see how myTime is incremented by deltaT each time the body of the loop is executed."
   ]
  },
  {
   "cell_type": "markdown",
   "metadata": {},
   "source": [
    "## Version 1 of the solar heating model\n",
    "Now that you know how to express an iteration using the MATLAB/Octave *for loop* construct, you have all means to solve Exercise 2, implement version 1 of the solar heating model in an M-file script named `solar_heating1.m` and answer the following questions:\n",
    "- What is the modeled temperature after one year?\n",
    "- How long does it take to reach the boiling point?\n",
    "- How would the temperature change proceed if time goes on? Does this make sense?"
   ]
  },
  {
   "cell_type": "markdown",
   "metadata": {},
   "source": [
    "To answer these questions, let us implement the solar heating model line by line. You should first try yourself. Then you can compare your M-file script to the following code segments in the notebook."
   ]
  },
  {
   "cell_type": "markdown",
   "metadata": {},
   "source": [
    "### 1. Physical constants, run parameters and model parameters\n",
    "We start by setting physical constants, run parameters that control the model simulation and model parameters that determine the characteristics of the model:"
   ]
  },
  {
   "cell_type": "code",
   "execution_count": 5,
   "metadata": {},
   "outputs": [],
   "source": [
    "% Set physical constants\n",
    "pureWaterFreezingPoint  = 273.15;  % pure water freezing point/K\n",
    "\n",
    "% Set run parameters\n",
    "deltaT     =    86400.0;           % time step/s\n",
    "startTime  =    0.0;               % time to start integration/s\n",
    "nTimeSteps =  365;                 % total number of time steps\n",
    "\n",
    "% Set model parameters\n",
    "solarConstant         = 1360.8;    % solar constant/(W m-2)\n",
    "effectiveHeatCapacity = 2.9526E08; % effective heat capacity of the \n",
    "                                   % atmosphere-ocean system/(J m-2 K-1)"
   ]
  },
  {
   "cell_type": "markdown",
   "metadata": {},
   "source": [
    "### 2. Initial conditions\n",
    "Next we specify the initial temperature and initial time:"
   ]
  },
  {
   "cell_type": "code",
   "execution_count": 8,
   "metadata": {},
   "outputs": [],
   "source": [
    "% Set initial conditions\n",
    "temperature = 15.0 + pureWaterFreezingPoint;\n",
    "myTime      = startTime;"
   ]
  },
  {
   "cell_type": "markdown",
   "metadata": {},
   "source": [
    "### 3. Time loop\n",
    "Finally, we add the time loop in terms of a `for` loop. It keeps track of the simulated time and approximates the time-dependent evolution of temperature using the Euler method:"
   ]
  },
  {
   "cell_type": "code",
   "execution_count": 9,
   "metadata": {},
   "outputs": [],
   "source": [
    "% Time loop (myIter = iteration counter)\n",
    "for myIter=1:nTimeSteps\n",
    "    \n",
    "    % Record simulated time\n",
    "    myTime = myTime + deltaT;\n",
    "    \n",
    "    % Step global annual-mean surface temperature forward in time \n",
    "    % (by \"Euler forward\" or \"forward-in-time\" method)\n",
    "    temperature  = temperature + deltaT/effectiveHeatCapacity* ...\n",
    "                                 (solarConstant/4.0);\n",
    "\n",
    "end % end of time loop"
   ]
  },
  {
   "cell_type": "markdown",
   "metadata": {},
   "source": [
    "Note that we need only one temperature variable, which is assigned a new value every time the body of the `for` loop is executed. After the last time step, this variable contains the final temperature value:"
   ]
  },
  {
   "cell_type": "code",
   "execution_count": 10,
   "metadata": {},
   "outputs": [
    {
     "name": "stdout",
     "output_type": "stream",
     "text": [
      "temperature =  324.49\r\n"
     ]
    }
   ],
   "source": [
    "temperature"
   ]
  },
  {
   "cell_type": "markdown",
   "metadata": {},
   "source": [
    "Hence the temperature after one year is 324.49 K. To find out how long it takes to reach the boiling point or how the temperature change would proceed if time went on, you could simply reduce or increase the number of time steps `nTimeSteps` and rerun your M-file script `solar_heating1.m`, or alternatively, rerun the cells in this notebook. "
   ]
  },
  {
   "cell_type": "markdown",
   "metadata": {},
   "source": [
    "## Summary\n",
    "M-files can be used to carry out complex tasks in a concise manner, much simpler than in a spreadsheet."
   ]
  }
 ],
 "metadata": {
  "kernelspec": {
   "display_name": "Octave",
   "language": "octave",
   "name": "octave"
  },
  "language_info": {
   "file_extension": ".m",
   "help_links": [
    {
     "text": "GNU Octave",
     "url": "https://www.gnu.org/software/octave/support.html"
    },
    {
     "text": "Octave Kernel",
     "url": "https://github.com/Calysto/octave_kernel"
    },
    {
     "text": "MetaKernel Magics",
     "url": "https://metakernel.readthedocs.io/en/latest/source/README.html"
    }
   ],
   "mimetype": "text/x-octave",
   "name": "octave",
   "version": "5.2.0"
  }
 },
 "nbformat": 4,
 "nbformat_minor": 2
}
